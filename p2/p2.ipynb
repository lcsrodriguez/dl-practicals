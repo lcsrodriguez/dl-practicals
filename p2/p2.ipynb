{
 "cells": [
  {
   "cell_type": "markdown",
   "id": "57261bf4",
   "metadata": {},
   "source": [
    "# Practical 2\n",
    "\n",
    "**Group composition**: \n",
    "- Lucie-Marie &bull; [lucie-marie.boschiancampaner@ensiie.fr](mailto:lucie-marie.boschiancampaner@ensiie.fr)\n",
    "- Khalil BATTIKH &bull; [khalil.battikh@ensiie.fr](mailto:khalil.battikh@ensiie.fr)\n",
    "- Lucas RODRIGUEZ &bull; [lucas.rodriguez@ensiie.fr](mailto:lucas.rodriguez@ensiie.fr)\n",
    "\n",
    "**Group ID**: 12\n",
    "\n",
    "**Author**: *Lucas RODRIGUEZ*"
   ]
  },
  {
   "cell_type": "markdown",
   "id": "4cf4b09f",
   "metadata": {},
   "source": [
    "## First steps"
   ]
  },
  {
   "cell_type": "code",
   "execution_count": 39,
   "id": "bea84582",
   "metadata": {
    "ExecuteTime": {
     "end_time": "2022-09-29T14:42:17.177206Z",
     "start_time": "2022-09-29T14:42:17.171287Z"
    }
   },
   "outputs": [],
   "source": [
    "# Importing the necessary libraries\n",
    "import numpy as np\n",
    "import pandas as pd\n",
    "import missingno as msno\n",
    "import tensorflow as tf\n",
    "from tensorflow import keras\n",
    "from tensorflow.keras import layers\n",
    "\n",
    "# Setting up a fixed random seed for experiment purposes\n",
    "np.random.seed(1)"
   ]
  },
  {
   "cell_type": "markdown",
   "id": "ed25f9d1",
   "metadata": {},
   "source": [
    "The chosen dataset is the following : **Air Quality**.\n",
    "\n",
    "- Link of the dataset description: https://archive.ics.uci.edu/ml/datasets/Air+Quality\n",
    "- Direct link to the dataset: https://archive.ics.uci.edu/ml/machine-learning-databases/00360/\n",
    "\n",
    "\n",
    "**Selected strategy** : The given dataset offers a lot of features and observations. However, a lot of irregularities have been detected by us. We have to perform heavy transformations on the dataset using pre-processing operations.\n",
    "\n",
    "To do so, we can first think about using Numpy, for matrix-based manipulations. However, we have decided to use Pandas to deal with tabular data more easily then convert the output version into a Numpy matrix as input for our NN model."
   ]
  },
  {
   "cell_type": "code",
   "execution_count": 74,
   "id": "eeb124a7",
   "metadata": {
    "ExecuteTime": {
     "end_time": "2022-09-29T15:16:59.480587Z",
     "start_time": "2022-09-29T15:16:59.452900Z"
    }
   },
   "outputs": [],
   "source": [
    "# Importing the given dataset\n",
    "file_name = \"data/AirQualityUCI.csv\"\n",
    "df = pd.read_csv(filepath_or_buffer=file_name,\n",
    "                sep=\";\",\n",
    "                index_col=\"Date\",\n",
    "                na_values=np.nan,\n",
    "                decimal=\",\") # Floatting "
   ]
  },
  {
   "cell_type": "code",
   "execution_count": 75,
   "id": "1b85de9b",
   "metadata": {
    "ExecuteTime": {
     "end_time": "2022-09-29T15:17:01.329507Z",
     "start_time": "2022-09-29T15:17:01.312081Z"
    }
   },
   "outputs": [
    {
     "name": "stdout",
     "output_type": "stream",
     "text": [
      "<class 'pandas.core.frame.DataFrame'>\n",
      "Index: 9471 entries, 10/03/2004 to nan\n",
      "Data columns (total 16 columns):\n",
      " #   Column         Non-Null Count  Dtype  \n",
      "---  ------         --------------  -----  \n",
      " 0   Time           9357 non-null   object \n",
      " 1   CO(GT)         9357 non-null   float64\n",
      " 2   PT08.S1(CO)    9357 non-null   float64\n",
      " 3   NMHC(GT)       9357 non-null   float64\n",
      " 4   C6H6(GT)       9357 non-null   float64\n",
      " 5   PT08.S2(NMHC)  9357 non-null   float64\n",
      " 6   NOx(GT)        9357 non-null   float64\n",
      " 7   PT08.S3(NOx)   9357 non-null   float64\n",
      " 8   NO2(GT)        9357 non-null   float64\n",
      " 9   PT08.S4(NO2)   9357 non-null   float64\n",
      " 10  PT08.S5(O3)    9357 non-null   float64\n",
      " 11  T              9357 non-null   float64\n",
      " 12  RH             9357 non-null   float64\n",
      " 13  AH             9357 non-null   float64\n",
      " 14  Unnamed: 15    0 non-null      float64\n",
      " 15  Unnamed: 16    0 non-null      float64\n",
      "dtypes: float64(15), object(1)\n",
      "memory usage: 1.2+ MB\n"
     ]
    },
    {
     "data": {
      "text/plain": [
       "(9471, 16)"
      ]
     },
     "execution_count": 75,
     "metadata": {},
     "output_type": "execute_result"
    }
   ],
   "source": [
    "# Some informations about the different columns composing the csv file\n",
    "df.info()\n",
    "\n",
    "# General shape of the DataFrame\n",
    "df.shape"
   ]
  },
  {
   "cell_type": "markdown",
   "id": "5543db34",
   "metadata": {},
   "source": [
    "The dataset initially contains 9471 rows and 16 columns."
   ]
  },
  {
   "cell_type": "markdown",
   "id": "e22001f7",
   "metadata": {},
   "source": [
    "### Dataset description"
   ]
  },
  {
   "cell_type": "markdown",
   "id": "99d58e34",
   "metadata": {},
   "source": [
    "- AH: Absolute Humidity"
   ]
  },
  {
   "cell_type": "markdown",
   "id": "af0ac65a",
   "metadata": {},
   "source": [
    "### Dataset references & License\n",
    "\n"
   ]
  },
  {
   "cell_type": "code",
   "execution_count": 73,
   "id": "95f84ab3",
   "metadata": {
    "ExecuteTime": {
     "end_time": "2022-09-29T15:16:46.550142Z",
     "start_time": "2022-09-29T15:16:46.517167Z"
    },
    "scrolled": true
   },
   "outputs": [
    {
     "data": {
      "text/html": [
       "<div>\n",
       "<style scoped>\n",
       "    .dataframe tbody tr th:only-of-type {\n",
       "        vertical-align: middle;\n",
       "    }\n",
       "\n",
       "    .dataframe tbody tr th {\n",
       "        vertical-align: top;\n",
       "    }\n",
       "\n",
       "    .dataframe thead th {\n",
       "        text-align: right;\n",
       "    }\n",
       "</style>\n",
       "<table border=\"1\" class=\"dataframe\">\n",
       "  <thead>\n",
       "    <tr style=\"text-align: right;\">\n",
       "      <th></th>\n",
       "      <th>Time</th>\n",
       "      <th>CO(GT)</th>\n",
       "      <th>PT08.S1(CO)</th>\n",
       "      <th>NMHC(GT)</th>\n",
       "      <th>C6H6(GT)</th>\n",
       "      <th>PT08.S2(NMHC)</th>\n",
       "      <th>NOx(GT)</th>\n",
       "      <th>PT08.S3(NOx)</th>\n",
       "      <th>NO2(GT)</th>\n",
       "      <th>PT08.S4(NO2)</th>\n",
       "      <th>PT08.S5(O3)</th>\n",
       "      <th>T</th>\n",
       "      <th>RH</th>\n",
       "      <th>AH</th>\n",
       "      <th>Unnamed: 15</th>\n",
       "      <th>Unnamed: 16</th>\n",
       "    </tr>\n",
       "    <tr>\n",
       "      <th>Date</th>\n",
       "      <th></th>\n",
       "      <th></th>\n",
       "      <th></th>\n",
       "      <th></th>\n",
       "      <th></th>\n",
       "      <th></th>\n",
       "      <th></th>\n",
       "      <th></th>\n",
       "      <th></th>\n",
       "      <th></th>\n",
       "      <th></th>\n",
       "      <th></th>\n",
       "      <th></th>\n",
       "      <th></th>\n",
       "      <th></th>\n",
       "      <th></th>\n",
       "    </tr>\n",
       "  </thead>\n",
       "  <tbody>\n",
       "    <tr>\n",
       "      <th>10/03/2004</th>\n",
       "      <td>18.00.00</td>\n",
       "      <td>2.6</td>\n",
       "      <td>1360.0</td>\n",
       "      <td>150.0</td>\n",
       "      <td>11.9</td>\n",
       "      <td>1046.0</td>\n",
       "      <td>166.0</td>\n",
       "      <td>1056.0</td>\n",
       "      <td>113.0</td>\n",
       "      <td>1692.0</td>\n",
       "      <td>1268.0</td>\n",
       "      <td>13.6</td>\n",
       "      <td>48.9</td>\n",
       "      <td>0.7578</td>\n",
       "      <td>NaN</td>\n",
       "      <td>NaN</td>\n",
       "    </tr>\n",
       "    <tr>\n",
       "      <th>10/03/2004</th>\n",
       "      <td>19.00.00</td>\n",
       "      <td>2.0</td>\n",
       "      <td>1292.0</td>\n",
       "      <td>112.0</td>\n",
       "      <td>9.4</td>\n",
       "      <td>955.0</td>\n",
       "      <td>103.0</td>\n",
       "      <td>1174.0</td>\n",
       "      <td>92.0</td>\n",
       "      <td>1559.0</td>\n",
       "      <td>972.0</td>\n",
       "      <td>13.3</td>\n",
       "      <td>47.7</td>\n",
       "      <td>0.7255</td>\n",
       "      <td>NaN</td>\n",
       "      <td>NaN</td>\n",
       "    </tr>\n",
       "    <tr>\n",
       "      <th>10/03/2004</th>\n",
       "      <td>20.00.00</td>\n",
       "      <td>2.2</td>\n",
       "      <td>1402.0</td>\n",
       "      <td>88.0</td>\n",
       "      <td>9.0</td>\n",
       "      <td>939.0</td>\n",
       "      <td>131.0</td>\n",
       "      <td>1140.0</td>\n",
       "      <td>114.0</td>\n",
       "      <td>1555.0</td>\n",
       "      <td>1074.0</td>\n",
       "      <td>11.9</td>\n",
       "      <td>54.0</td>\n",
       "      <td>0.7502</td>\n",
       "      <td>NaN</td>\n",
       "      <td>NaN</td>\n",
       "    </tr>\n",
       "    <tr>\n",
       "      <th>10/03/2004</th>\n",
       "      <td>21.00.00</td>\n",
       "      <td>2.2</td>\n",
       "      <td>1376.0</td>\n",
       "      <td>80.0</td>\n",
       "      <td>9.2</td>\n",
       "      <td>948.0</td>\n",
       "      <td>172.0</td>\n",
       "      <td>1092.0</td>\n",
       "      <td>122.0</td>\n",
       "      <td>1584.0</td>\n",
       "      <td>1203.0</td>\n",
       "      <td>11.0</td>\n",
       "      <td>60.0</td>\n",
       "      <td>0.7867</td>\n",
       "      <td>NaN</td>\n",
       "      <td>NaN</td>\n",
       "    </tr>\n",
       "    <tr>\n",
       "      <th>10/03/2004</th>\n",
       "      <td>22.00.00</td>\n",
       "      <td>1.6</td>\n",
       "      <td>1272.0</td>\n",
       "      <td>51.0</td>\n",
       "      <td>6.5</td>\n",
       "      <td>836.0</td>\n",
       "      <td>131.0</td>\n",
       "      <td>1205.0</td>\n",
       "      <td>116.0</td>\n",
       "      <td>1490.0</td>\n",
       "      <td>1110.0</td>\n",
       "      <td>11.2</td>\n",
       "      <td>59.6</td>\n",
       "      <td>0.7888</td>\n",
       "      <td>NaN</td>\n",
       "      <td>NaN</td>\n",
       "    </tr>\n",
       "    <tr>\n",
       "      <th>10/03/2004</th>\n",
       "      <td>23.00.00</td>\n",
       "      <td>1.2</td>\n",
       "      <td>1197.0</td>\n",
       "      <td>38.0</td>\n",
       "      <td>4.7</td>\n",
       "      <td>750.0</td>\n",
       "      <td>89.0</td>\n",
       "      <td>1337.0</td>\n",
       "      <td>96.0</td>\n",
       "      <td>1393.0</td>\n",
       "      <td>949.0</td>\n",
       "      <td>11.2</td>\n",
       "      <td>59.2</td>\n",
       "      <td>0.7848</td>\n",
       "      <td>NaN</td>\n",
       "      <td>NaN</td>\n",
       "    </tr>\n",
       "    <tr>\n",
       "      <th>11/03/2004</th>\n",
       "      <td>00.00.00</td>\n",
       "      <td>1.2</td>\n",
       "      <td>1185.0</td>\n",
       "      <td>31.0</td>\n",
       "      <td>3.6</td>\n",
       "      <td>690.0</td>\n",
       "      <td>62.0</td>\n",
       "      <td>1462.0</td>\n",
       "      <td>77.0</td>\n",
       "      <td>1333.0</td>\n",
       "      <td>733.0</td>\n",
       "      <td>11.3</td>\n",
       "      <td>56.8</td>\n",
       "      <td>0.7603</td>\n",
       "      <td>NaN</td>\n",
       "      <td>NaN</td>\n",
       "    </tr>\n",
       "    <tr>\n",
       "      <th>11/03/2004</th>\n",
       "      <td>01.00.00</td>\n",
       "      <td>1.0</td>\n",
       "      <td>1136.0</td>\n",
       "      <td>31.0</td>\n",
       "      <td>3.3</td>\n",
       "      <td>672.0</td>\n",
       "      <td>62.0</td>\n",
       "      <td>1453.0</td>\n",
       "      <td>76.0</td>\n",
       "      <td>1333.0</td>\n",
       "      <td>730.0</td>\n",
       "      <td>10.7</td>\n",
       "      <td>60.0</td>\n",
       "      <td>0.7702</td>\n",
       "      <td>NaN</td>\n",
       "      <td>NaN</td>\n",
       "    </tr>\n",
       "  </tbody>\n",
       "</table>\n",
       "</div>"
      ],
      "text/plain": [
       "                Time  CO(GT)  PT08.S1(CO)  ...      AH  Unnamed: 15  Unnamed: 16\n",
       "Date                                       ...                                  \n",
       "10/03/2004  18.00.00     2.6       1360.0  ...  0.7578          NaN          NaN\n",
       "10/03/2004  19.00.00     2.0       1292.0  ...  0.7255          NaN          NaN\n",
       "10/03/2004  20.00.00     2.2       1402.0  ...  0.7502          NaN          NaN\n",
       "10/03/2004  21.00.00     2.2       1376.0  ...  0.7867          NaN          NaN\n",
       "10/03/2004  22.00.00     1.6       1272.0  ...  0.7888          NaN          NaN\n",
       "10/03/2004  23.00.00     1.2       1197.0  ...  0.7848          NaN          NaN\n",
       "11/03/2004  00.00.00     1.2       1185.0  ...  0.7603          NaN          NaN\n",
       "11/03/2004  01.00.00     1.0       1136.0  ...  0.7702          NaN          NaN\n",
       "\n",
       "[8 rows x 16 columns]"
      ]
     },
     "execution_count": 73,
     "metadata": {},
     "output_type": "execute_result"
    }
   ],
   "source": [
    "# A quick overview of the dataset structure\n",
    "df.head(8)"
   ]
  },
  {
   "cell_type": "markdown",
   "id": "52a5e7e3",
   "metadata": {},
   "source": [
    "## Data pre-processing"
   ]
  },
  {
   "cell_type": "markdown",
   "id": "9120190d",
   "metadata": {},
   "source": [
    "### Drop duplicates"
   ]
  },
  {
   "cell_type": "markdown",
   "id": "71d98881",
   "metadata": {},
   "source": [
    "We can handle duplicate rows by using the following instruction\n"
   ]
  },
  {
   "cell_type": "code",
   "execution_count": 42,
   "id": "3c559ee8",
   "metadata": {
    "ExecuteTime": {
     "end_time": "2022-09-29T14:42:58.104425Z",
     "start_time": "2022-09-29T14:42:58.081973Z"
    }
   },
   "outputs": [
    {
     "data": {
      "text/plain": [
       "(9347, 16)"
      ]
     },
     "execution_count": 42,
     "metadata": {},
     "output_type": "execute_result"
    }
   ],
   "source": [
    "df.drop_duplicates(inplace=True) # we keep the \"keep\" argument to its default value : \"first\"\n",
    "df.shape"
   ]
  },
  {
   "cell_type": "markdown",
   "id": "35af2b09",
   "metadata": {},
   "source": [
    "We have successfully eliminated $9471 - 9347 = \\fbox{124}$ rows (especially, most of them were rows filled of NaN values (see next section). "
   ]
  },
  {
   "cell_type": "code",
   "execution_count": 44,
   "id": "1438a80e",
   "metadata": {
    "ExecuteTime": {
     "end_time": "2022-09-29T14:45:13.280574Z",
     "start_time": "2022-09-29T14:45:13.266621Z"
    }
   },
   "outputs": [
    {
     "data": {
      "text/plain": [
       "Time               24\n",
       "CO(GT)            104\n",
       "PT08.S1(CO)      1042\n",
       "NMHC(GT)          430\n",
       "C6H6(GT)          408\n",
       "PT08.S2(NMHC)    1246\n",
       "NOx(GT)           926\n",
       "PT08.S3(NOx)     1222\n",
       "NO2(GT)           284\n",
       "PT08.S4(NO2)     1604\n",
       "PT08.S5(O3)      1744\n",
       "T                 437\n",
       "RH                754\n",
       "AH               6684\n",
       "Unnamed: 15         0\n",
       "Unnamed: 16         0\n",
       "dtype: int64"
      ]
     },
     "execution_count": 44,
     "metadata": {},
     "output_type": "execute_result"
    }
   ],
   "source": [
    "# We first determine for each column, the number of different values in this column by using the following Pandas method\n",
    "df.nunique()"
   ]
  },
  {
   "cell_type": "markdown",
   "id": "0a164546",
   "metadata": {},
   "source": [
    "### Drop useless columns"
   ]
  },
  {
   "cell_type": "markdown",
   "id": "790f44bd",
   "metadata": {},
   "source": [
    "We can easily see, thanks to the previous cell, that the last two columns are completely empty\n",
    "\n",
    "$\\Longrightarrow$ We immediately remove them."
   ]
  },
  {
   "cell_type": "code",
   "execution_count": 49,
   "id": "738adeb7",
   "metadata": {
    "ExecuteTime": {
     "end_time": "2022-09-29T14:49:39.634010Z",
     "start_time": "2022-09-29T14:49:39.627104Z"
    }
   },
   "outputs": [
    {
     "name": "stdout",
     "output_type": "stream",
     "text": [
      "Columns already removed.\n"
     ]
    }
   ],
   "source": [
    "try: # try-except block in order to catch the thrown exception in case of re-execution \n",
    "    df.drop(['Unnamed: 15', 'Unnamed: 16'], axis=1, inplace=True)\n",
    "    df.shape\n",
    "except KeyError:\n",
    "    print(\"Columns already removed.\")"
   ]
  },
  {
   "cell_type": "code",
   "execution_count": 50,
   "id": "f4e85ec1",
   "metadata": {
    "ExecuteTime": {
     "end_time": "2022-09-29T14:51:41.618485Z",
     "start_time": "2022-09-29T14:51:41.591470Z"
    },
    "scrolled": true
   },
   "outputs": [
    {
     "data": {
      "text/html": [
       "<div>\n",
       "<style scoped>\n",
       "    .dataframe tbody tr th:only-of-type {\n",
       "        vertical-align: middle;\n",
       "    }\n",
       "\n",
       "    .dataframe tbody tr th {\n",
       "        vertical-align: top;\n",
       "    }\n",
       "\n",
       "    .dataframe thead th {\n",
       "        text-align: right;\n",
       "    }\n",
       "</style>\n",
       "<table border=\"1\" class=\"dataframe\">\n",
       "  <thead>\n",
       "    <tr style=\"text-align: right;\">\n",
       "      <th></th>\n",
       "      <th>Time</th>\n",
       "      <th>CO(GT)</th>\n",
       "      <th>PT08.S1(CO)</th>\n",
       "      <th>NMHC(GT)</th>\n",
       "      <th>C6H6(GT)</th>\n",
       "      <th>PT08.S2(NMHC)</th>\n",
       "      <th>NOx(GT)</th>\n",
       "      <th>PT08.S3(NOx)</th>\n",
       "      <th>NO2(GT)</th>\n",
       "      <th>PT08.S4(NO2)</th>\n",
       "      <th>PT08.S5(O3)</th>\n",
       "      <th>T</th>\n",
       "      <th>RH</th>\n",
       "      <th>AH</th>\n",
       "    </tr>\n",
       "    <tr>\n",
       "      <th>Date</th>\n",
       "      <th></th>\n",
       "      <th></th>\n",
       "      <th></th>\n",
       "      <th></th>\n",
       "      <th></th>\n",
       "      <th></th>\n",
       "      <th></th>\n",
       "      <th></th>\n",
       "      <th></th>\n",
       "      <th></th>\n",
       "      <th></th>\n",
       "      <th></th>\n",
       "      <th></th>\n",
       "      <th></th>\n",
       "    </tr>\n",
       "  </thead>\n",
       "  <tbody>\n",
       "    <tr>\n",
       "      <th>10/03/2004</th>\n",
       "      <td>18.00.00</td>\n",
       "      <td>2,6</td>\n",
       "      <td>1360.0</td>\n",
       "      <td>150.0</td>\n",
       "      <td>11,9</td>\n",
       "      <td>1046.0</td>\n",
       "      <td>166.0</td>\n",
       "      <td>1056.0</td>\n",
       "      <td>113.0</td>\n",
       "      <td>1692.0</td>\n",
       "      <td>1268.0</td>\n",
       "      <td>13,6</td>\n",
       "      <td>48,9</td>\n",
       "      <td>0,7578</td>\n",
       "    </tr>\n",
       "    <tr>\n",
       "      <th>10/03/2004</th>\n",
       "      <td>19.00.00</td>\n",
       "      <td>2</td>\n",
       "      <td>1292.0</td>\n",
       "      <td>112.0</td>\n",
       "      <td>9,4</td>\n",
       "      <td>955.0</td>\n",
       "      <td>103.0</td>\n",
       "      <td>1174.0</td>\n",
       "      <td>92.0</td>\n",
       "      <td>1559.0</td>\n",
       "      <td>972.0</td>\n",
       "      <td>13,3</td>\n",
       "      <td>47,7</td>\n",
       "      <td>0,7255</td>\n",
       "    </tr>\n",
       "    <tr>\n",
       "      <th>10/03/2004</th>\n",
       "      <td>20.00.00</td>\n",
       "      <td>2,2</td>\n",
       "      <td>1402.0</td>\n",
       "      <td>88.0</td>\n",
       "      <td>9,0</td>\n",
       "      <td>939.0</td>\n",
       "      <td>131.0</td>\n",
       "      <td>1140.0</td>\n",
       "      <td>114.0</td>\n",
       "      <td>1555.0</td>\n",
       "      <td>1074.0</td>\n",
       "      <td>11,9</td>\n",
       "      <td>54,0</td>\n",
       "      <td>0,7502</td>\n",
       "    </tr>\n",
       "    <tr>\n",
       "      <th>10/03/2004</th>\n",
       "      <td>21.00.00</td>\n",
       "      <td>2,2</td>\n",
       "      <td>1376.0</td>\n",
       "      <td>80.0</td>\n",
       "      <td>9,2</td>\n",
       "      <td>948.0</td>\n",
       "      <td>172.0</td>\n",
       "      <td>1092.0</td>\n",
       "      <td>122.0</td>\n",
       "      <td>1584.0</td>\n",
       "      <td>1203.0</td>\n",
       "      <td>11,0</td>\n",
       "      <td>60,0</td>\n",
       "      <td>0,7867</td>\n",
       "    </tr>\n",
       "    <tr>\n",
       "      <th>10/03/2004</th>\n",
       "      <td>22.00.00</td>\n",
       "      <td>1,6</td>\n",
       "      <td>1272.0</td>\n",
       "      <td>51.0</td>\n",
       "      <td>6,5</td>\n",
       "      <td>836.0</td>\n",
       "      <td>131.0</td>\n",
       "      <td>1205.0</td>\n",
       "      <td>116.0</td>\n",
       "      <td>1490.0</td>\n",
       "      <td>1110.0</td>\n",
       "      <td>11,2</td>\n",
       "      <td>59,6</td>\n",
       "      <td>0,7888</td>\n",
       "    </tr>\n",
       "    <tr>\n",
       "      <th>...</th>\n",
       "      <td>...</td>\n",
       "      <td>...</td>\n",
       "      <td>...</td>\n",
       "      <td>...</td>\n",
       "      <td>...</td>\n",
       "      <td>...</td>\n",
       "      <td>...</td>\n",
       "      <td>...</td>\n",
       "      <td>...</td>\n",
       "      <td>...</td>\n",
       "      <td>...</td>\n",
       "      <td>...</td>\n",
       "      <td>...</td>\n",
       "      <td>...</td>\n",
       "    </tr>\n",
       "    <tr>\n",
       "      <th>04/04/2005</th>\n",
       "      <td>11.00.00</td>\n",
       "      <td>2,4</td>\n",
       "      <td>1163.0</td>\n",
       "      <td>-200.0</td>\n",
       "      <td>11,4</td>\n",
       "      <td>1027.0</td>\n",
       "      <td>353.0</td>\n",
       "      <td>604.0</td>\n",
       "      <td>179.0</td>\n",
       "      <td>1264.0</td>\n",
       "      <td>1269.0</td>\n",
       "      <td>24,3</td>\n",
       "      <td>23,7</td>\n",
       "      <td>0,7119</td>\n",
       "    </tr>\n",
       "    <tr>\n",
       "      <th>04/04/2005</th>\n",
       "      <td>12.00.00</td>\n",
       "      <td>2,4</td>\n",
       "      <td>1142.0</td>\n",
       "      <td>-200.0</td>\n",
       "      <td>12,4</td>\n",
       "      <td>1063.0</td>\n",
       "      <td>293.0</td>\n",
       "      <td>603.0</td>\n",
       "      <td>175.0</td>\n",
       "      <td>1241.0</td>\n",
       "      <td>1092.0</td>\n",
       "      <td>26,9</td>\n",
       "      <td>18,3</td>\n",
       "      <td>0,6406</td>\n",
       "    </tr>\n",
       "    <tr>\n",
       "      <th>04/04/2005</th>\n",
       "      <td>13.00.00</td>\n",
       "      <td>2,1</td>\n",
       "      <td>1003.0</td>\n",
       "      <td>-200.0</td>\n",
       "      <td>9,5</td>\n",
       "      <td>961.0</td>\n",
       "      <td>235.0</td>\n",
       "      <td>702.0</td>\n",
       "      <td>156.0</td>\n",
       "      <td>1041.0</td>\n",
       "      <td>770.0</td>\n",
       "      <td>28,3</td>\n",
       "      <td>13,5</td>\n",
       "      <td>0,5139</td>\n",
       "    </tr>\n",
       "    <tr>\n",
       "      <th>04/04/2005</th>\n",
       "      <td>14.00.00</td>\n",
       "      <td>2,2</td>\n",
       "      <td>1071.0</td>\n",
       "      <td>-200.0</td>\n",
       "      <td>11,9</td>\n",
       "      <td>1047.0</td>\n",
       "      <td>265.0</td>\n",
       "      <td>654.0</td>\n",
       "      <td>168.0</td>\n",
       "      <td>1129.0</td>\n",
       "      <td>816.0</td>\n",
       "      <td>28,5</td>\n",
       "      <td>13,1</td>\n",
       "      <td>0,5028</td>\n",
       "    </tr>\n",
       "    <tr>\n",
       "      <th>NaN</th>\n",
       "      <td>NaN</td>\n",
       "      <td>NaN</td>\n",
       "      <td>NaN</td>\n",
       "      <td>NaN</td>\n",
       "      <td>NaN</td>\n",
       "      <td>NaN</td>\n",
       "      <td>NaN</td>\n",
       "      <td>NaN</td>\n",
       "      <td>NaN</td>\n",
       "      <td>NaN</td>\n",
       "      <td>NaN</td>\n",
       "      <td>NaN</td>\n",
       "      <td>NaN</td>\n",
       "      <td>NaN</td>\n",
       "    </tr>\n",
       "  </tbody>\n",
       "</table>\n",
       "<p>9347 rows × 14 columns</p>\n",
       "</div>"
      ],
      "text/plain": [
       "                Time CO(GT)  PT08.S1(CO)  ...     T    RH      AH\n",
       "Date                                      ...                    \n",
       "10/03/2004  18.00.00    2,6       1360.0  ...  13,6  48,9  0,7578\n",
       "10/03/2004  19.00.00      2       1292.0  ...  13,3  47,7  0,7255\n",
       "10/03/2004  20.00.00    2,2       1402.0  ...  11,9  54,0  0,7502\n",
       "10/03/2004  21.00.00    2,2       1376.0  ...  11,0  60,0  0,7867\n",
       "10/03/2004  22.00.00    1,6       1272.0  ...  11,2  59,6  0,7888\n",
       "...              ...    ...          ...  ...   ...   ...     ...\n",
       "04/04/2005  11.00.00    2,4       1163.0  ...  24,3  23,7  0,7119\n",
       "04/04/2005  12.00.00    2,4       1142.0  ...  26,9  18,3  0,6406\n",
       "04/04/2005  13.00.00    2,1       1003.0  ...  28,3  13,5  0,5139\n",
       "04/04/2005  14.00.00    2,2       1071.0  ...  28,5  13,1  0,5028\n",
       "NaN              NaN    NaN          NaN  ...   NaN   NaN     NaN\n",
       "\n",
       "[9347 rows x 14 columns]"
      ]
     },
     "execution_count": 50,
     "metadata": {},
     "output_type": "execute_result"
    }
   ],
   "source": [
    "df"
   ]
  },
  {
   "cell_type": "markdown",
   "id": "02939b3b",
   "metadata": {},
   "source": [
    "### Handling missing values (NaN)"
   ]
  },
  {
   "cell_type": "markdown",
   "id": "bcbe326e",
   "metadata": {},
   "source": [
    "In order to train and validate our model, we cannot tolerate the presence of NaN values within the input dataset\n",
    "\n",
    "$\\Longrightarrow$ We remove them.\n",
    "\n",
    "**Remark** : Most of them have been removed thanks to the `drop_duplicate` operation. However, we still have a remaining row at the end. We remove it."
   ]
  },
  {
   "cell_type": "code",
   "execution_count": 55,
   "id": "2828baea",
   "metadata": {
    "ExecuteTime": {
     "end_time": "2022-09-29T14:56:08.518537Z",
     "start_time": "2022-09-29T14:56:08.500356Z"
    }
   },
   "outputs": [
    {
     "data": {
      "text/plain": [
       "(9346, 14)"
      ]
     },
     "execution_count": 55,
     "metadata": {},
     "output_type": "execute_result"
    }
   ],
   "source": [
    "df.dropna(how=\"all\", inplace=True)\n",
    "df.shape"
   ]
  },
  {
   "cell_type": "markdown",
   "id": "5bc12ff9",
   "metadata": {},
   "source": [
    "To have a graphical confirmation, we can produce the two bar plots below showing the \"distribution\" of the missing values among our dataset. We can observe that we have eliminate all the missing values."
   ]
  },
  {
   "cell_type": "code",
   "execution_count": 56,
   "id": "9bcda387",
   "metadata": {
    "ExecuteTime": {
     "end_time": "2022-09-29T14:57:26.633292Z",
     "start_time": "2022-09-29T14:57:26.225365Z"
    },
    "scrolled": true
   },
   "outputs": [
    {
     "data": {
      "text/plain": [
       "<AxesSubplot:>"
      ]
     },
     "execution_count": 56,
     "metadata": {},
     "output_type": "execute_result"
    },
    {
     "data": {
      "image/png": "[encoded data removed]",
      "text/plain": [
       "<Figure size 2500x1000 with 2 Axes>"
      ]
     },
     "metadata": {},
     "output_type": "display_data"
    }
   ],
   "source": [
    "msno.matrix(df)"
   ]
  },
  {
   "cell_type": "code",
   "execution_count": 57,
   "id": "2c9339a1",
   "metadata": {
    "ExecuteTime": {
     "end_time": "2022-09-29T14:57:29.652818Z",
     "start_time": "2022-09-29T14:57:29.084033Z"
    }
   },
   "outputs": [
    {
     "data": {
      "text/plain": [
       "<AxesSubplot:>"
      ]
     },
     "execution_count": 57,
     "metadata": {},
     "output_type": "execute_result"
    },
    {
     "data": {
      "image/png": "[encoded data removed]",
      "text/plain": [
       "<Figure size 2500x1000 with 3 Axes>"
      ]
     },
     "metadata": {},
     "output_type": "display_data"
    }
   ],
   "source": [
    "msno.bar(df, color=\"red\")"
   ]
  },
  {
   "cell_type": "markdown",
   "id": "54b73bdf",
   "metadata": {},
   "source": [
    "## NN model"
   ]
  },
  {
   "cell_type": "code",
   "execution_count": null,
   "id": "5eb12bab",
   "metadata": {
    "ExecuteTime": {
     "end_time": "2022-09-29T14:41:35.353513Z",
     "start_time": "2022-09-29T14:41:35.316841Z"
    }
   },
   "outputs": [],
   "source": []
  },
  {
   "cell_type": "code",
   "execution_count": null,
   "id": "e3a7f05d",
   "metadata": {},
   "outputs": [],
   "source": []
  }
 ],
 "metadata": {
  "kernelspec": {
   "display_name": "Python 3 (ipykernel)",
   "language": "python",
   "name": "python3"
  },
  "language_info": {
   "codemirror_mode": {
    "name": "ipython",
    "version": 3
   },
   "file_extension": ".py",
   "mimetype": "text/x-python",
   "name": "python",
   "nbconvert_exporter": "python",
   "pygments_lexer": "ipython3",
   "version": "3.10.6"
  },
  "toc": {
   "base_numbering": 1,
   "nav_menu": {},
   "number_sections": true,
   "sideBar": true,
   "skip_h1_title": false,
   "title_cell": "Table of Contents",
   "title_sidebar": "Contents",
   "toc_cell": false,
   "toc_position": {},
   "toc_section_display": true,
   "toc_window_display": true
  }
 },
 "nbformat": 4,
 "nbformat_minor": 5
}
