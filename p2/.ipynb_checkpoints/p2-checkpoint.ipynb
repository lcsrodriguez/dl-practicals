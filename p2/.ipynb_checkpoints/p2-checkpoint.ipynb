{
 "cells": [
  {
   "cell_type": "markdown",
   "id": "57261bf4",
   "metadata": {},
   "source": [
    "# Practical 2\n",
    "\n",
    "**Group composition**: \n",
    "- Lucie-Marie &bull; [lucie-marie.boschiancampaner@ensiie.fr](mailto:lucie-marie.boschiancampaner@ensiie.fr)\n",
    "- Khalil BATTIKH &bull: [khalil.battikh@ensiie.fr](mailto:khalil.battikh@ensiie.fr)\n",
    "- Lucas RODRIGUEZ &bull; [lucas.rodriguez@ensiie.fr](mailto:lucas.rodriguez@ensiie.fr)\n",
    "\n",
    "**Group ID**: 12\n",
    "\n",
    "**Author**: *Lucas RODRIGUEZ*"
   ]
  },
  {
   "cell_type": "markdown",
   "id": "52a5e7e3",
   "metadata": {},
   "source": [
    "## Pre-processing"
   ]
  },
  {
   "cell_type": "code",
   "execution_count": 2,
   "id": "9bcda387",
   "metadata": {
    "ExecuteTime": {
     "end_time": "2022-09-28T19:00:50.737681Z",
     "start_time": "2022-09-28T19:00:50.734362Z"
    }
   },
   "outputs": [],
   "source": [
    "import numpy as np\n",
    "import pandas as pd"
   ]
  },
  {
   "cell_type": "code",
   "execution_count": null,
   "id": "0c7fc3b1",
   "metadata": {},
   "outputs": [],
   "source": []
  },
  {
   "cell_type": "markdown",
   "id": "54b73bdf",
   "metadata": {},
   "source": [
    "## NN model"
   ]
  },
  {
   "cell_type": "code",
   "execution_count": null,
   "id": "5eb12bab",
   "metadata": {},
   "outputs": [],
   "source": []
  }
 ],
 "metadata": {
  "kernelspec": {
   "display_name": "Python 3 (ipykernel)",
   "language": "python",
   "name": "python3"
  },
  "language_info": {
   "codemirror_mode": {
    "name": "ipython",
    "version": 3
   },
   "file_extension": ".py",
   "mimetype": "text/x-python",
   "name": "python",
   "nbconvert_exporter": "python",
   "pygments_lexer": "ipython3",
   "version": "3.10.6"
  },
  "toc": {
   "base_numbering": 1,
   "nav_menu": {},
   "number_sections": true,
   "sideBar": true,
   "skip_h1_title": false,
   "title_cell": "Table of Contents",
   "title_sidebar": "Contents",
   "toc_cell": false,
   "toc_position": {},
   "toc_section_display": true,
   "toc_window_display": true
  }
 },
 "nbformat": 4,
 "nbformat_minor": 5
}
