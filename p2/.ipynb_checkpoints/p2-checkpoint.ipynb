{
 "cells": [
  {
   "cell_type": "markdown",
   "id": "57261bf4",
   "metadata": {},
   "source": [
    "# Practical 2\n",
    "\n",
    "**Group composition**: \n",
    "- Lucie-Marie BOSCHIAN CAMPANER &bull; [lucie-marie.boschiancampaner@ensiie.fr](mailto:lucie-marie.boschiancampaner@ensiie.fr)\n",
    "- Khalil BATTIKH &bull; [khalil.battikh@ensiie.fr](mailto:khalil.battikh@ensiie.fr)\n",
    "- Lucas RODRIGUEZ &bull; [lucas.rodriguez@ensiie.fr](mailto:lucas.rodriguez@ensiie.fr)\n",
    "\n",
    "**Group ID**: 12\n",
    "\n",
    "**Author**: *Lucas RODRIGUEZ*"
   ]
  },
  {
   "cell_type": "markdown",
   "id": "515c3515",
   "metadata": {},
   "source": [
    "## First steps"
   ]
  },
  {
   "cell_type": "code",
   "execution_count": 358,
   "id": "c8ad28f8",
   "metadata": {
    "ExecuteTime": {
     "end_time": "2022-09-29T21:29:47.696133Z",
     "start_time": "2022-09-29T21:29:47.499259Z"
    }
   },
   "outputs": [],
   "source": [
    "# Importing the necessary libraries\n",
    "import numpy as np\n",
    "import pandas as pd\n",
    "import missingno as msno\n",
    "import tensorflow as tf\n",
    "from tensorflow import keras\n",
    "from tensorflow.keras import layers\n",
    "import matplotlib.pyplot as plt\n",
    "import seaborn as sns\n",
    "from sklearn.model_selection import train_test_split\n",
    "# Setting up a fixed random seed for experiment purposes\n",
    "np.random.seed(1)"
   ]
  },
  {
   "cell_type": "markdown",
   "id": "d95553cf",
   "metadata": {},
   "source": [
    "The chosen dataset is the following : **Air Quality**.\n",
    "\n",
    "- Link of the dataset description: https://archive.ics.uci.edu/ml/datasets/Air+Quality\n",
    "- Direct link to the dataset: https://archive.ics.uci.edu/ml/machine-learning-databases/00360/\n",
    "\n",
    "\n",
    "**Selected strategy** : The given dataset offers a lot of features and observations. However, a lot of irregularities have been detected by us. We have to perform heavy transformations on the dataset using pre-processing operations.\n",
    "\n",
    "To do so, we can first think about using Numpy, for matrix-based manipulations. However, we have decided to use Pandas to deal with tabular data more easily then convert the output version into a Numpy matrix as input for our NN model."
   ]
  },
  {
   "cell_type": "code",
   "execution_count": 212,
   "id": "d7ed8842",
   "metadata": {
    "ExecuteTime": {
     "end_time": "2022-09-29T19:27:32.461714Z",
     "start_time": "2022-09-29T19:27:32.438075Z"
    }
   },
   "outputs": [],
   "source": [
    "# Importing the given dataset\n",
    "file_name = \"data/AirQualityUCI.csv\"\n",
    "df = pd.read_csv(filepath_or_buffer=file_name,\n",
    "                sep=\";\",\n",
    "                #index_col=\"Date\",\n",
    "                na_values=np.nan,\n",
    "                decimal=\",\") # Floating point separator for implicit casting\n",
    "\n",
    "# Making a deep copy for safety reason\n",
    "df_initial = df.copy(deep=True)"
   ]
  },
  {
   "cell_type": "code",
   "execution_count": 213,
   "id": "d9a84020",
   "metadata": {
    "ExecuteTime": {
     "end_time": "2022-09-29T19:27:33.489182Z",
     "start_time": "2022-09-29T19:27:33.474116Z"
    }
   },
   "outputs": [
    {
     "name": "stdout",
     "output_type": "stream",
     "text": [
      "<class 'pandas.core.frame.DataFrame'>\n",
      "RangeIndex: 9471 entries, 0 to 9470\n",
      "Data columns (total 17 columns):\n",
      " #   Column         Non-Null Count  Dtype  \n",
      "---  ------         --------------  -----  \n",
      " 0   Date           9357 non-null   object \n",
      " 1   Time           9357 non-null   object \n",
      " 2   CO(GT)         9357 non-null   float64\n",
      " 3   PT08.S1(CO)    9357 non-null   float64\n",
      " 4   NMHC(GT)       9357 non-null   float64\n",
      " 5   C6H6(GT)       9357 non-null   float64\n",
      " 6   PT08.S2(NMHC)  9357 non-null   float64\n",
      " 7   NOx(GT)        9357 non-null   float64\n",
      " 8   PT08.S3(NOx)   9357 non-null   float64\n",
      " 9   NO2(GT)        9357 non-null   float64\n",
      " 10  PT08.S4(NO2)   9357 non-null   float64\n",
      " 11  PT08.S5(O3)    9357 non-null   float64\n",
      " 12  T              9357 non-null   float64\n",
      " 13  RH             9357 non-null   float64\n",
      " 14  AH             9357 non-null   float64\n",
      " 15  Unnamed: 15    0 non-null      float64\n",
      " 16  Unnamed: 16    0 non-null      float64\n",
      "dtypes: float64(15), object(2)\n",
      "memory usage: 1.2+ MB\n"
     ]
    },
    {
     "data": {
      "text/plain": [
       "(9471, 17)"
      ]
     },
     "execution_count": 213,
     "metadata": {},
     "output_type": "execute_result"
    }
   ],
   "source": [
    "# Some informations about the different columns composing the csv file\n",
    "df.info()\n",
    "\n",
    "# General shape of the DataFrame\n",
    "df.shape"
   ]
  },
  {
   "cell_type": "markdown",
   "id": "027db74a",
   "metadata": {},
   "source": [
    "The dataset initially contains 9471 rows and 16 columns."
   ]
  },
  {
   "cell_type": "markdown",
   "id": "bb11d370",
   "metadata": {},
   "source": [
    "### Dataset description"
   ]
  },
  {
   "cell_type": "markdown",
   "id": "2c027e08",
   "metadata": {},
   "source": [
    "The dataset contains 9358 instances of hourly averaged responses from an array of 5 metal oxide chemical sensors embedded in an Air Quality Chemical Multisensor Device. The device was located on the field in a significantly polluted area, at road level,within an Italian city. Data were recorded from March 2004 to February 2005 (one year)representing the longest freely available recordings of on field deployed air quality chemical sensor devices responses. Ground Truth hourly averaged concentrations for CO, Non Metanic Hydrocarbons, Benzene, Total Nitrogen Oxides (NOx) and Nitrogen Dioxide (NO2) and were provided by a co-located reference certified analyzer. Evidences of cross-sensitivities as well as both concept and sensor drifts are present as described in De Vito et al., Sens. And Act. B, Vol. 129,2,2008 (citation required) eventually affecting sensors concentration estimation capabilities. Missing values are tagged with -200 value. \n",
    "\n",
    "\n",
    "---\n",
    "\n",
    "0. Date (format: DD/MM/YYYY)\n",
    "1. Time (format: HH.MM.SS)\n",
    "2. True hourly averaged concentration CO in $\\text{mg}/\\text{m}^3$ (reference analyzer) \n",
    "3. PT08.S1 (tin oxide) hourly averaged sensor response (nominally CO targeted) \n",
    "4. True hourly averaged overall Non Metanic HydroCarbons concentration in microg/m^3 (reference analyzer) \n",
    "5. True hourly averaged Benzene concentration in microg/m^3 (reference analyzer) \n",
    "6. PT08.S2 (titania) hourly averaged sensor response (nominally NMHC targeted) \n",
    "7. True hourly averaged NOx concentration in ppb (reference analyzer) \n",
    "8. PT08.S3 (tungsten oxide) hourly averaged sensor response (nominally NOx targeted) \n",
    "9. True hourly averaged NO2 concentration in microg/m^3 (reference analyzer) \n",
    "10. PT08.S4 (tungsten oxide) hourly averaged sensor response (nominally NO2 targeted) \n",
    "11. PT08.S5 (indium oxide) hourly averaged sensor response (nominally O3 targeted) \n",
    "12. Temperature (in °C)\n",
    "13. Relative Humidity (%) \n",
    "14. AH: Absolute Humidity\n"
   ]
  },
  {
   "cell_type": "markdown",
   "id": "1c877b88",
   "metadata": {},
   "source": [
    "### Dataset references & License\n",
    "\n",
    "\n",
    "\n",
    "Saverio De Vito (saverio.devito@enea.it), ENEA - National Agency for New Technologies, Energy and Sustainable Economic Development"
   ]
  },
  {
   "cell_type": "code",
   "execution_count": 214,
   "id": "9f5b2a73",
   "metadata": {
    "ExecuteTime": {
     "end_time": "2022-09-29T19:27:37.637159Z",
     "start_time": "2022-09-29T19:27:37.601661Z"
    },
    "scrolled": true
   },
   "outputs": [
    {
     "data": {
      "text/html": [
       "<div>\n",
       "<style scoped>\n",
       "    .dataframe tbody tr th:only-of-type {\n",
       "        vertical-align: middle;\n",
       "    }\n",
       "\n",
       "    .dataframe tbody tr th {\n",
       "        vertical-align: top;\n",
       "    }\n",
       "\n",
       "    .dataframe thead th {\n",
       "        text-align: right;\n",
       "    }\n",
       "</style>\n",
       "<table border=\"1\" class=\"dataframe\">\n",
       "  <thead>\n",
       "    <tr style=\"text-align: right;\">\n",
       "      <th></th>\n",
       "      <th>Date</th>\n",
       "      <th>Time</th>\n",
       "      <th>CO(GT)</th>\n",
       "      <th>PT08.S1(CO)</th>\n",
       "      <th>NMHC(GT)</th>\n",
       "      <th>C6H6(GT)</th>\n",
       "      <th>PT08.S2(NMHC)</th>\n",
       "      <th>NOx(GT)</th>\n",
       "      <th>PT08.S3(NOx)</th>\n",
       "      <th>NO2(GT)</th>\n",
       "      <th>PT08.S4(NO2)</th>\n",
       "      <th>PT08.S5(O3)</th>\n",
       "      <th>T</th>\n",
       "      <th>RH</th>\n",
       "      <th>AH</th>\n",
       "      <th>Unnamed: 15</th>\n",
       "      <th>Unnamed: 16</th>\n",
       "    </tr>\n",
       "  </thead>\n",
       "  <tbody>\n",
       "    <tr>\n",
       "      <th>0</th>\n",
       "      <td>10/03/2004</td>\n",
       "      <td>18.00.00</td>\n",
       "      <td>2.6</td>\n",
       "      <td>1360.0</td>\n",
       "      <td>150.0</td>\n",
       "      <td>11.9</td>\n",
       "      <td>1046.0</td>\n",
       "      <td>166.0</td>\n",
       "      <td>1056.0</td>\n",
       "      <td>113.0</td>\n",
       "      <td>1692.0</td>\n",
       "      <td>1268.0</td>\n",
       "      <td>13.6</td>\n",
       "      <td>48.9</td>\n",
       "      <td>0.7578</td>\n",
       "      <td>NaN</td>\n",
       "      <td>NaN</td>\n",
       "    </tr>\n",
       "    <tr>\n",
       "      <th>1</th>\n",
       "      <td>10/03/2004</td>\n",
       "      <td>19.00.00</td>\n",
       "      <td>2.0</td>\n",
       "      <td>1292.0</td>\n",
       "      <td>112.0</td>\n",
       "      <td>9.4</td>\n",
       "      <td>955.0</td>\n",
       "      <td>103.0</td>\n",
       "      <td>1174.0</td>\n",
       "      <td>92.0</td>\n",
       "      <td>1559.0</td>\n",
       "      <td>972.0</td>\n",
       "      <td>13.3</td>\n",
       "      <td>47.7</td>\n",
       "      <td>0.7255</td>\n",
       "      <td>NaN</td>\n",
       "      <td>NaN</td>\n",
       "    </tr>\n",
       "    <tr>\n",
       "      <th>2</th>\n",
       "      <td>10/03/2004</td>\n",
       "      <td>20.00.00</td>\n",
       "      <td>2.2</td>\n",
       "      <td>1402.0</td>\n",
       "      <td>88.0</td>\n",
       "      <td>9.0</td>\n",
       "      <td>939.0</td>\n",
       "      <td>131.0</td>\n",
       "      <td>1140.0</td>\n",
       "      <td>114.0</td>\n",
       "      <td>1555.0</td>\n",
       "      <td>1074.0</td>\n",
       "      <td>11.9</td>\n",
       "      <td>54.0</td>\n",
       "      <td>0.7502</td>\n",
       "      <td>NaN</td>\n",
       "      <td>NaN</td>\n",
       "    </tr>\n",
       "    <tr>\n",
       "      <th>3</th>\n",
       "      <td>10/03/2004</td>\n",
       "      <td>21.00.00</td>\n",
       "      <td>2.2</td>\n",
       "      <td>1376.0</td>\n",
       "      <td>80.0</td>\n",
       "      <td>9.2</td>\n",
       "      <td>948.0</td>\n",
       "      <td>172.0</td>\n",
       "      <td>1092.0</td>\n",
       "      <td>122.0</td>\n",
       "      <td>1584.0</td>\n",
       "      <td>1203.0</td>\n",
       "      <td>11.0</td>\n",
       "      <td>60.0</td>\n",
       "      <td>0.7867</td>\n",
       "      <td>NaN</td>\n",
       "      <td>NaN</td>\n",
       "    </tr>\n",
       "    <tr>\n",
       "      <th>4</th>\n",
       "      <td>10/03/2004</td>\n",
       "      <td>22.00.00</td>\n",
       "      <td>1.6</td>\n",
       "      <td>1272.0</td>\n",
       "      <td>51.0</td>\n",
       "      <td>6.5</td>\n",
       "      <td>836.0</td>\n",
       "      <td>131.0</td>\n",
       "      <td>1205.0</td>\n",
       "      <td>116.0</td>\n",
       "      <td>1490.0</td>\n",
       "      <td>1110.0</td>\n",
       "      <td>11.2</td>\n",
       "      <td>59.6</td>\n",
       "      <td>0.7888</td>\n",
       "      <td>NaN</td>\n",
       "      <td>NaN</td>\n",
       "    </tr>\n",
       "    <tr>\n",
       "      <th>5</th>\n",
       "      <td>10/03/2004</td>\n",
       "      <td>23.00.00</td>\n",
       "      <td>1.2</td>\n",
       "      <td>1197.0</td>\n",
       "      <td>38.0</td>\n",
       "      <td>4.7</td>\n",
       "      <td>750.0</td>\n",
       "      <td>89.0</td>\n",
       "      <td>1337.0</td>\n",
       "      <td>96.0</td>\n",
       "      <td>1393.0</td>\n",
       "      <td>949.0</td>\n",
       "      <td>11.2</td>\n",
       "      <td>59.2</td>\n",
       "      <td>0.7848</td>\n",
       "      <td>NaN</td>\n",
       "      <td>NaN</td>\n",
       "    </tr>\n",
       "    <tr>\n",
       "      <th>6</th>\n",
       "      <td>11/03/2004</td>\n",
       "      <td>00.00.00</td>\n",
       "      <td>1.2</td>\n",
       "      <td>1185.0</td>\n",
       "      <td>31.0</td>\n",
       "      <td>3.6</td>\n",
       "      <td>690.0</td>\n",
       "      <td>62.0</td>\n",
       "      <td>1462.0</td>\n",
       "      <td>77.0</td>\n",
       "      <td>1333.0</td>\n",
       "      <td>733.0</td>\n",
       "      <td>11.3</td>\n",
       "      <td>56.8</td>\n",
       "      <td>0.7603</td>\n",
       "      <td>NaN</td>\n",
       "      <td>NaN</td>\n",
       "    </tr>\n",
       "    <tr>\n",
       "      <th>7</th>\n",
       "      <td>11/03/2004</td>\n",
       "      <td>01.00.00</td>\n",
       "      <td>1.0</td>\n",
       "      <td>1136.0</td>\n",
       "      <td>31.0</td>\n",
       "      <td>3.3</td>\n",
       "      <td>672.0</td>\n",
       "      <td>62.0</td>\n",
       "      <td>1453.0</td>\n",
       "      <td>76.0</td>\n",
       "      <td>1333.0</td>\n",
       "      <td>730.0</td>\n",
       "      <td>10.7</td>\n",
       "      <td>60.0</td>\n",
       "      <td>0.7702</td>\n",
       "      <td>NaN</td>\n",
       "      <td>NaN</td>\n",
       "    </tr>\n",
       "  </tbody>\n",
       "</table>\n",
       "</div>"
      ],
      "text/plain": [
       "         Date      Time  CO(GT)  ...      AH  Unnamed: 15  Unnamed: 16\n",
       "0  10/03/2004  18.00.00     2.6  ...  0.7578          NaN          NaN\n",
       "1  10/03/2004  19.00.00     2.0  ...  0.7255          NaN          NaN\n",
       "2  10/03/2004  20.00.00     2.2  ...  0.7502          NaN          NaN\n",
       "3  10/03/2004  21.00.00     2.2  ...  0.7867          NaN          NaN\n",
       "4  10/03/2004  22.00.00     1.6  ...  0.7888          NaN          NaN\n",
       "5  10/03/2004  23.00.00     1.2  ...  0.7848          NaN          NaN\n",
       "6  11/03/2004  00.00.00     1.2  ...  0.7603          NaN          NaN\n",
       "7  11/03/2004  01.00.00     1.0  ...  0.7702          NaN          NaN\n",
       "\n",
       "[8 rows x 17 columns]"
      ]
     },
     "execution_count": 214,
     "metadata": {},
     "output_type": "execute_result"
    }
   ],
   "source": [
    "# A quick overview of the dataset structure\n",
    "df.head(8)"
   ]
  },
  {
   "cell_type": "markdown",
   "id": "52a5e7e3",
   "metadata": {},
   "source": [
    "## Data pre-processing"
   ]
  },
  {
   "cell_type": "markdown",
   "id": "9f2d145d",
   "metadata": {},
   "source": [
    "### Drop duplicates"
   ]
  },
  {
   "cell_type": "markdown",
   "id": "41df6006",
   "metadata": {},
   "source": [
    "We can handle duplicate rows by using the following instruction\n"
   ]
  },
  {
   "cell_type": "code",
   "execution_count": 215,
   "id": "bb19eaf5",
   "metadata": {
    "ExecuteTime": {
     "end_time": "2022-09-29T19:27:39.724951Z",
     "start_time": "2022-09-29T19:27:39.706341Z"
    }
   },
   "outputs": [
    {
     "data": {
      "text/plain": [
       "(9358, 17)"
      ]
     },
     "execution_count": 215,
     "metadata": {},
     "output_type": "execute_result"
    }
   ],
   "source": [
    "df.drop_duplicates(inplace=True) # we keep the \"keep\" argument to its default value : \"first\"\n",
    "df.shape"
   ]
  },
  {
   "cell_type": "markdown",
   "id": "b6ca35cf",
   "metadata": {},
   "source": [
    "We have successfully eliminated $9471 - 9347 = \\fbox{124}$ rows (especially, most of them were rows filled of NaN values (see next section). \n",
    "\n",
    "**Remark** : Most of them have been removed thanks to the `drop_duplicate` operation. However, we still have a remaining row at the end. We remove it."
   ]
  },
  {
   "cell_type": "code",
   "execution_count": 216,
   "id": "23121f2c",
   "metadata": {
    "ExecuteTime": {
     "end_time": "2022-09-29T19:27:40.894842Z",
     "start_time": "2022-09-29T19:27:40.882520Z"
    }
   },
   "outputs": [
    {
     "data": {
      "text/plain": [
       "(9357, 17)"
      ]
     },
     "execution_count": 216,
     "metadata": {},
     "output_type": "execute_result"
    }
   ],
   "source": [
    "df.dropna(how=\"all\", inplace=True)\n",
    "df.shape"
   ]
  },
  {
   "cell_type": "code",
   "execution_count": 217,
   "id": "df76e7b2",
   "metadata": {
    "ExecuteTime": {
     "end_time": "2022-09-29T19:27:42.631219Z",
     "start_time": "2022-09-29T19:27:42.616943Z"
    }
   },
   "outputs": [
    {
     "data": {
      "text/plain": [
       "Date              391\n",
       "Time               24\n",
       "CO(GT)             97\n",
       "PT08.S1(CO)      1042\n",
       "NMHC(GT)          430\n",
       "C6H6(GT)          408\n",
       "PT08.S2(NMHC)    1246\n",
       "NOx(GT)           926\n",
       "PT08.S3(NOx)     1222\n",
       "NO2(GT)           284\n",
       "PT08.S4(NO2)     1604\n",
       "PT08.S5(O3)      1744\n",
       "T                 437\n",
       "RH                754\n",
       "AH               6684\n",
       "Unnamed: 15         0\n",
       "Unnamed: 16         0\n",
       "dtype: int64"
      ]
     },
     "execution_count": 217,
     "metadata": {},
     "output_type": "execute_result"
    }
   ],
   "source": [
    "# We first determine for each column, the number of different values in this column by using the following Pandas method\n",
    "df.nunique()"
   ]
  },
  {
   "cell_type": "markdown",
   "id": "f0bf8950",
   "metadata": {},
   "source": [
    "### Drop useless columns"
   ]
  },
  {
   "cell_type": "markdown",
   "id": "d107b779",
   "metadata": {},
   "source": [
    "We can easily see, thanks to the previous cell, that the last two columns are completely empty\n",
    "\n",
    "$\\Longrightarrow$ We immediately remove them."
   ]
  },
  {
   "cell_type": "code",
   "execution_count": 218,
   "id": "6f10055c",
   "metadata": {
    "ExecuteTime": {
     "end_time": "2022-09-29T19:27:44.490537Z",
     "start_time": "2022-09-29T19:27:44.451412Z"
    },
    "scrolled": true
   },
   "outputs": [
    {
     "data": {
      "text/html": [
       "<div>\n",
       "<style scoped>\n",
       "    .dataframe tbody tr th:only-of-type {\n",
       "        vertical-align: middle;\n",
       "    }\n",
       "\n",
       "    .dataframe tbody tr th {\n",
       "        vertical-align: top;\n",
       "    }\n",
       "\n",
       "    .dataframe thead th {\n",
       "        text-align: right;\n",
       "    }\n",
       "</style>\n",
       "<table border=\"1\" class=\"dataframe\">\n",
       "  <thead>\n",
       "    <tr style=\"text-align: right;\">\n",
       "      <th></th>\n",
       "      <th>Date</th>\n",
       "      <th>Time</th>\n",
       "      <th>CO(GT)</th>\n",
       "      <th>PT08.S1(CO)</th>\n",
       "      <th>NMHC(GT)</th>\n",
       "      <th>C6H6(GT)</th>\n",
       "      <th>PT08.S2(NMHC)</th>\n",
       "      <th>NOx(GT)</th>\n",
       "      <th>PT08.S3(NOx)</th>\n",
       "      <th>NO2(GT)</th>\n",
       "      <th>PT08.S4(NO2)</th>\n",
       "      <th>PT08.S5(O3)</th>\n",
       "      <th>T</th>\n",
       "      <th>RH</th>\n",
       "      <th>AH</th>\n",
       "    </tr>\n",
       "  </thead>\n",
       "  <tbody>\n",
       "    <tr>\n",
       "      <th>0</th>\n",
       "      <td>10/03/2004</td>\n",
       "      <td>18.00.00</td>\n",
       "      <td>2.6</td>\n",
       "      <td>1360.0</td>\n",
       "      <td>150.0</td>\n",
       "      <td>11.9</td>\n",
       "      <td>1046.0</td>\n",
       "      <td>166.0</td>\n",
       "      <td>1056.0</td>\n",
       "      <td>113.0</td>\n",
       "      <td>1692.0</td>\n",
       "      <td>1268.0</td>\n",
       "      <td>13.6</td>\n",
       "      <td>48.9</td>\n",
       "      <td>0.7578</td>\n",
       "    </tr>\n",
       "    <tr>\n",
       "      <th>1</th>\n",
       "      <td>10/03/2004</td>\n",
       "      <td>19.00.00</td>\n",
       "      <td>2.0</td>\n",
       "      <td>1292.0</td>\n",
       "      <td>112.0</td>\n",
       "      <td>9.4</td>\n",
       "      <td>955.0</td>\n",
       "      <td>103.0</td>\n",
       "      <td>1174.0</td>\n",
       "      <td>92.0</td>\n",
       "      <td>1559.0</td>\n",
       "      <td>972.0</td>\n",
       "      <td>13.3</td>\n",
       "      <td>47.7</td>\n",
       "      <td>0.7255</td>\n",
       "    </tr>\n",
       "    <tr>\n",
       "      <th>2</th>\n",
       "      <td>10/03/2004</td>\n",
       "      <td>20.00.00</td>\n",
       "      <td>2.2</td>\n",
       "      <td>1402.0</td>\n",
       "      <td>88.0</td>\n",
       "      <td>9.0</td>\n",
       "      <td>939.0</td>\n",
       "      <td>131.0</td>\n",
       "      <td>1140.0</td>\n",
       "      <td>114.0</td>\n",
       "      <td>1555.0</td>\n",
       "      <td>1074.0</td>\n",
       "      <td>11.9</td>\n",
       "      <td>54.0</td>\n",
       "      <td>0.7502</td>\n",
       "    </tr>\n",
       "    <tr>\n",
       "      <th>3</th>\n",
       "      <td>10/03/2004</td>\n",
       "      <td>21.00.00</td>\n",
       "      <td>2.2</td>\n",
       "      <td>1376.0</td>\n",
       "      <td>80.0</td>\n",
       "      <td>9.2</td>\n",
       "      <td>948.0</td>\n",
       "      <td>172.0</td>\n",
       "      <td>1092.0</td>\n",
       "      <td>122.0</td>\n",
       "      <td>1584.0</td>\n",
       "      <td>1203.0</td>\n",
       "      <td>11.0</td>\n",
       "      <td>60.0</td>\n",
       "      <td>0.7867</td>\n",
       "    </tr>\n",
       "    <tr>\n",
       "      <th>4</th>\n",
       "      <td>10/03/2004</td>\n",
       "      <td>22.00.00</td>\n",
       "      <td>1.6</td>\n",
       "      <td>1272.0</td>\n",
       "      <td>51.0</td>\n",
       "      <td>6.5</td>\n",
       "      <td>836.0</td>\n",
       "      <td>131.0</td>\n",
       "      <td>1205.0</td>\n",
       "      <td>116.0</td>\n",
       "      <td>1490.0</td>\n",
       "      <td>1110.0</td>\n",
       "      <td>11.2</td>\n",
       "      <td>59.6</td>\n",
       "      <td>0.7888</td>\n",
       "    </tr>\n",
       "    <tr>\n",
       "      <th>...</th>\n",
       "      <td>...</td>\n",
       "      <td>...</td>\n",
       "      <td>...</td>\n",
       "      <td>...</td>\n",
       "      <td>...</td>\n",
       "      <td>...</td>\n",
       "      <td>...</td>\n",
       "      <td>...</td>\n",
       "      <td>...</td>\n",
       "      <td>...</td>\n",
       "      <td>...</td>\n",
       "      <td>...</td>\n",
       "      <td>...</td>\n",
       "      <td>...</td>\n",
       "      <td>...</td>\n",
       "    </tr>\n",
       "    <tr>\n",
       "      <th>9352</th>\n",
       "      <td>04/04/2005</td>\n",
       "      <td>10.00.00</td>\n",
       "      <td>3.1</td>\n",
       "      <td>1314.0</td>\n",
       "      <td>-200.0</td>\n",
       "      <td>13.5</td>\n",
       "      <td>1101.0</td>\n",
       "      <td>472.0</td>\n",
       "      <td>539.0</td>\n",
       "      <td>190.0</td>\n",
       "      <td>1374.0</td>\n",
       "      <td>1729.0</td>\n",
       "      <td>21.9</td>\n",
       "      <td>29.3</td>\n",
       "      <td>0.7568</td>\n",
       "    </tr>\n",
       "    <tr>\n",
       "      <th>9353</th>\n",
       "      <td>04/04/2005</td>\n",
       "      <td>11.00.00</td>\n",
       "      <td>2.4</td>\n",
       "      <td>1163.0</td>\n",
       "      <td>-200.0</td>\n",
       "      <td>11.4</td>\n",
       "      <td>1027.0</td>\n",
       "      <td>353.0</td>\n",
       "      <td>604.0</td>\n",
       "      <td>179.0</td>\n",
       "      <td>1264.0</td>\n",
       "      <td>1269.0</td>\n",
       "      <td>24.3</td>\n",
       "      <td>23.7</td>\n",
       "      <td>0.7119</td>\n",
       "    </tr>\n",
       "    <tr>\n",
       "      <th>9354</th>\n",
       "      <td>04/04/2005</td>\n",
       "      <td>12.00.00</td>\n",
       "      <td>2.4</td>\n",
       "      <td>1142.0</td>\n",
       "      <td>-200.0</td>\n",
       "      <td>12.4</td>\n",
       "      <td>1063.0</td>\n",
       "      <td>293.0</td>\n",
       "      <td>603.0</td>\n",
       "      <td>175.0</td>\n",
       "      <td>1241.0</td>\n",
       "      <td>1092.0</td>\n",
       "      <td>26.9</td>\n",
       "      <td>18.3</td>\n",
       "      <td>0.6406</td>\n",
       "    </tr>\n",
       "    <tr>\n",
       "      <th>9355</th>\n",
       "      <td>04/04/2005</td>\n",
       "      <td>13.00.00</td>\n",
       "      <td>2.1</td>\n",
       "      <td>1003.0</td>\n",
       "      <td>-200.0</td>\n",
       "      <td>9.5</td>\n",
       "      <td>961.0</td>\n",
       "      <td>235.0</td>\n",
       "      <td>702.0</td>\n",
       "      <td>156.0</td>\n",
       "      <td>1041.0</td>\n",
       "      <td>770.0</td>\n",
       "      <td>28.3</td>\n",
       "      <td>13.5</td>\n",
       "      <td>0.5139</td>\n",
       "    </tr>\n",
       "    <tr>\n",
       "      <th>9356</th>\n",
       "      <td>04/04/2005</td>\n",
       "      <td>14.00.00</td>\n",
       "      <td>2.2</td>\n",
       "      <td>1071.0</td>\n",
       "      <td>-200.0</td>\n",
       "      <td>11.9</td>\n",
       "      <td>1047.0</td>\n",
       "      <td>265.0</td>\n",
       "      <td>654.0</td>\n",
       "      <td>168.0</td>\n",
       "      <td>1129.0</td>\n",
       "      <td>816.0</td>\n",
       "      <td>28.5</td>\n",
       "      <td>13.1</td>\n",
       "      <td>0.5028</td>\n",
       "    </tr>\n",
       "  </tbody>\n",
       "</table>\n",
       "<p>9357 rows × 15 columns</p>\n",
       "</div>"
      ],
      "text/plain": [
       "            Date      Time  CO(GT)  ...     T    RH      AH\n",
       "0     10/03/2004  18.00.00     2.6  ...  13.6  48.9  0.7578\n",
       "1     10/03/2004  19.00.00     2.0  ...  13.3  47.7  0.7255\n",
       "2     10/03/2004  20.00.00     2.2  ...  11.9  54.0  0.7502\n",
       "3     10/03/2004  21.00.00     2.2  ...  11.0  60.0  0.7867\n",
       "4     10/03/2004  22.00.00     1.6  ...  11.2  59.6  0.7888\n",
       "...          ...       ...     ...  ...   ...   ...     ...\n",
       "9352  04/04/2005  10.00.00     3.1  ...  21.9  29.3  0.7568\n",
       "9353  04/04/2005  11.00.00     2.4  ...  24.3  23.7  0.7119\n",
       "9354  04/04/2005  12.00.00     2.4  ...  26.9  18.3  0.6406\n",
       "9355  04/04/2005  13.00.00     2.1  ...  28.3  13.5  0.5139\n",
       "9356  04/04/2005  14.00.00     2.2  ...  28.5  13.1  0.5028\n",
       "\n",
       "[9357 rows x 15 columns]"
      ]
     },
     "execution_count": 218,
     "metadata": {},
     "output_type": "execute_result"
    }
   ],
   "source": [
    "try: # try-except block in order to catch the thrown exception in case of re-execution \n",
    "    df.drop(['Unnamed: 15', 'Unnamed: 16'], axis=1, inplace=True)\n",
    "    df.shape\n",
    "except KeyError:\n",
    "    print(\"Columns already removed.\")\n",
    "df"
   ]
  },
  {
   "cell_type": "markdown",
   "id": "02719120",
   "metadata": {},
   "source": [
    "### Customizing the inner structure of the dataset\n",
    "\n",
    "We observe that `Date` and `Time` are `object`-typed. Since we want to perform a regression model on our data, we want to explain the target variable with the widest subset of possible features.\n",
    "\n"
   ]
  },
  {
   "cell_type": "code",
   "execution_count": 219,
   "id": "e18e9b8e",
   "metadata": {
    "ExecuteTime": {
     "end_time": "2022-09-29T19:27:47.472434Z",
     "start_time": "2022-09-29T19:27:47.284168Z"
    }
   },
   "outputs": [
    {
     "data": {
      "image/png": "[encoded data removed]",
      "text/plain": [
       "<Figure size 640x480 with 1 Axes>"
      ]
     },
     "metadata": {},
     "output_type": "display_data"
    }
   ],
   "source": [
    "_ = df[0:24].plot.scatter(\"Time\", \"NO2(GT)\", \n",
    "                      rot=45, \n",
    "                      color=\"red\"\n",
    "                     )\n",
    "_ = plt.title(\"Evolution of the variable NO2(GT) with respect to the time\")"
   ]
  },
  {
   "cell_type": "markdown",
   "id": "1208ebb0",
   "metadata": {},
   "source": [
    "We can see that, on the scale of only one day, the evolution of concentration of some substances is clearly highlighted here."
   ]
  },
  {
   "cell_type": "markdown",
   "id": "d383c4a5",
   "metadata": {},
   "source": [
    "We have:\n",
    "- `Date`: DD/MM/YYYY\n",
    "- `Time`: HH.MM.SS (but the frequency of observation is an hourly-basis.\n",
    "\n",
    "\n",
    "\n",
    "We also observe that the date range goes from 10/03/2004 to 03/04/2005; we can remove the year detail and only encode the month as follows:\n",
    "- March 2004 $\\longrightarrow 0$\n",
    "- April 2004 $\\longrightarrow 1$ \n",
    "- ...\n",
    "\n",
    "As shown in the below figures, we see that there is no clear reason in keeping the days into the dataset; we remove them.\n",
    "\n",
    "<img src=\"img/cal1.png\" width=600>\n",
    "\n",
    "<img src=\"img/cal2.png\" width=600>\n",
    "\n",
    "\n",
    "In fact, there is no need to keep the days because of the combination of the record id (represented by the index of the row) and the hours.\n",
    "\n",
    "\n",
    "To conclude, we have decided to keep the months (as an encoded field) and the hours (the minutes and seconds dedicated fields are empty because of the hourly refresh time frequency."
   ]
  },
  {
   "cell_type": "code",
   "execution_count": 220,
   "id": "db2b256c",
   "metadata": {
    "ExecuteTime": {
     "end_time": "2022-09-29T19:27:50.081202Z",
     "start_time": "2022-09-29T19:27:50.061982Z"
    }
   },
   "outputs": [],
   "source": [
    "# Creating the month column\n",
    "get_month = lambda x:x.split(\"/\")[1][1] if x.split(\"/\")[1][0] == '0' else x.split(\"/\")[1]\n",
    "df[\"Month\"] = df[\"Date\"].apply(get_month)\n",
    "df[\"Month\"] = pd.to_numeric(df[\"Month\"])"
   ]
  },
  {
   "cell_type": "code",
   "execution_count": 221,
   "id": "a254ddec",
   "metadata": {
    "ExecuteTime": {
     "end_time": "2022-09-29T19:27:51.141151Z",
     "start_time": "2022-09-29T19:27:51.122716Z"
    }
   },
   "outputs": [],
   "source": [
    "# Creating the hour column\n",
    "get_hour = lambda x:x.split(\".\")[0][0] if x.split(\".\")[0][1] == '0' else x.split(\".\")[0]\n",
    "df[\"Hour\"] = df[\"Time\"].apply(get_hour)\n",
    "df[\"Hour\"] = pd.to_numeric(df[\"Hour\"])"
   ]
  },
  {
   "cell_type": "code",
   "execution_count": 222,
   "id": "0e1b4e8c",
   "metadata": {
    "ExecuteTime": {
     "end_time": "2022-09-29T19:27:52.176197Z",
     "start_time": "2022-09-29T19:27:52.160129Z"
    }
   },
   "outputs": [
    {
     "name": "stdout",
     "output_type": "stream",
     "text": [
      "<class 'pandas.core.frame.DataFrame'>\n",
      "Int64Index: 9357 entries, 0 to 9356\n",
      "Data columns (total 17 columns):\n",
      " #   Column         Non-Null Count  Dtype  \n",
      "---  ------         --------------  -----  \n",
      " 0   Date           9357 non-null   object \n",
      " 1   Time           9357 non-null   object \n",
      " 2   CO(GT)         9357 non-null   float64\n",
      " 3   PT08.S1(CO)    9357 non-null   float64\n",
      " 4   NMHC(GT)       9357 non-null   float64\n",
      " 5   C6H6(GT)       9357 non-null   float64\n",
      " 6   PT08.S2(NMHC)  9357 non-null   float64\n",
      " 7   NOx(GT)        9357 non-null   float64\n",
      " 8   PT08.S3(NOx)   9357 non-null   float64\n",
      " 9   NO2(GT)        9357 non-null   float64\n",
      " 10  PT08.S4(NO2)   9357 non-null   float64\n",
      " 11  PT08.S5(O3)    9357 non-null   float64\n",
      " 12  T              9357 non-null   float64\n",
      " 13  RH             9357 non-null   float64\n",
      " 14  AH             9357 non-null   float64\n",
      " 15  Month          9357 non-null   int64  \n",
      " 16  Hour           9357 non-null   int64  \n",
      "dtypes: float64(13), int64(2), object(2)\n",
      "memory usage: 1.3+ MB\n"
     ]
    }
   ],
   "source": [
    "df.info()"
   ]
  },
  {
   "cell_type": "code",
   "execution_count": 244,
   "id": "be60a190",
   "metadata": {
    "ExecuteTime": {
     "end_time": "2022-09-29T19:40:22.936502Z",
     "start_time": "2022-09-29T19:40:22.897289Z"
    }
   },
   "outputs": [
    {
     "name": "stdout",
     "output_type": "stream",
     "text": [
      "Columns already removed.\n"
     ]
    },
    {
     "data": {
      "text/html": [
       "<div>\n",
       "<style scoped>\n",
       "    .dataframe tbody tr th:only-of-type {\n",
       "        vertical-align: middle;\n",
       "    }\n",
       "\n",
       "    .dataframe tbody tr th {\n",
       "        vertical-align: top;\n",
       "    }\n",
       "\n",
       "    .dataframe thead th {\n",
       "        text-align: right;\n",
       "    }\n",
       "</style>\n",
       "<table border=\"1\" class=\"dataframe\">\n",
       "  <thead>\n",
       "    <tr style=\"text-align: right;\">\n",
       "      <th></th>\n",
       "      <th>CO(GT)</th>\n",
       "      <th>PT08.S1(CO)</th>\n",
       "      <th>NMHC(GT)</th>\n",
       "      <th>C6H6(GT)</th>\n",
       "      <th>PT08.S2(NMHC)</th>\n",
       "      <th>NOx(GT)</th>\n",
       "      <th>PT08.S3(NOx)</th>\n",
       "      <th>NO2(GT)</th>\n",
       "      <th>PT08.S4(NO2)</th>\n",
       "      <th>PT08.S5(O3)</th>\n",
       "      <th>T</th>\n",
       "      <th>RH</th>\n",
       "      <th>AH</th>\n",
       "      <th>Month</th>\n",
       "      <th>Hour</th>\n",
       "    </tr>\n",
       "  </thead>\n",
       "  <tbody>\n",
       "    <tr>\n",
       "      <th>0</th>\n",
       "      <td>2.6</td>\n",
       "      <td>1360.0</td>\n",
       "      <td>150.0</td>\n",
       "      <td>11.9</td>\n",
       "      <td>1046.0</td>\n",
       "      <td>166.0</td>\n",
       "      <td>1056.0</td>\n",
       "      <td>113.0</td>\n",
       "      <td>1692.0</td>\n",
       "      <td>1268.0</td>\n",
       "      <td>13.6</td>\n",
       "      <td>48.9</td>\n",
       "      <td>0.7578</td>\n",
       "      <td>3</td>\n",
       "      <td>18</td>\n",
       "    </tr>\n",
       "    <tr>\n",
       "      <th>1</th>\n",
       "      <td>2.0</td>\n",
       "      <td>1292.0</td>\n",
       "      <td>112.0</td>\n",
       "      <td>9.4</td>\n",
       "      <td>955.0</td>\n",
       "      <td>103.0</td>\n",
       "      <td>1174.0</td>\n",
       "      <td>92.0</td>\n",
       "      <td>1559.0</td>\n",
       "      <td>972.0</td>\n",
       "      <td>13.3</td>\n",
       "      <td>47.7</td>\n",
       "      <td>0.7255</td>\n",
       "      <td>3</td>\n",
       "      <td>19</td>\n",
       "    </tr>\n",
       "    <tr>\n",
       "      <th>2</th>\n",
       "      <td>2.2</td>\n",
       "      <td>1402.0</td>\n",
       "      <td>88.0</td>\n",
       "      <td>9.0</td>\n",
       "      <td>939.0</td>\n",
       "      <td>131.0</td>\n",
       "      <td>1140.0</td>\n",
       "      <td>114.0</td>\n",
       "      <td>1555.0</td>\n",
       "      <td>1074.0</td>\n",
       "      <td>11.9</td>\n",
       "      <td>54.0</td>\n",
       "      <td>0.7502</td>\n",
       "      <td>3</td>\n",
       "      <td>2</td>\n",
       "    </tr>\n",
       "    <tr>\n",
       "      <th>3</th>\n",
       "      <td>2.2</td>\n",
       "      <td>1376.0</td>\n",
       "      <td>80.0</td>\n",
       "      <td>9.2</td>\n",
       "      <td>948.0</td>\n",
       "      <td>172.0</td>\n",
       "      <td>1092.0</td>\n",
       "      <td>122.0</td>\n",
       "      <td>1584.0</td>\n",
       "      <td>1203.0</td>\n",
       "      <td>11.0</td>\n",
       "      <td>60.0</td>\n",
       "      <td>0.7867</td>\n",
       "      <td>3</td>\n",
       "      <td>21</td>\n",
       "    </tr>\n",
       "    <tr>\n",
       "      <th>4</th>\n",
       "      <td>1.6</td>\n",
       "      <td>1272.0</td>\n",
       "      <td>51.0</td>\n",
       "      <td>6.5</td>\n",
       "      <td>836.0</td>\n",
       "      <td>131.0</td>\n",
       "      <td>1205.0</td>\n",
       "      <td>116.0</td>\n",
       "      <td>1490.0</td>\n",
       "      <td>1110.0</td>\n",
       "      <td>11.2</td>\n",
       "      <td>59.6</td>\n",
       "      <td>0.7888</td>\n",
       "      <td>3</td>\n",
       "      <td>22</td>\n",
       "    </tr>\n",
       "    <tr>\n",
       "      <th>...</th>\n",
       "      <td>...</td>\n",
       "      <td>...</td>\n",
       "      <td>...</td>\n",
       "      <td>...</td>\n",
       "      <td>...</td>\n",
       "      <td>...</td>\n",
       "      <td>...</td>\n",
       "      <td>...</td>\n",
       "      <td>...</td>\n",
       "      <td>...</td>\n",
       "      <td>...</td>\n",
       "      <td>...</td>\n",
       "      <td>...</td>\n",
       "      <td>...</td>\n",
       "      <td>...</td>\n",
       "    </tr>\n",
       "    <tr>\n",
       "      <th>9352</th>\n",
       "      <td>3.1</td>\n",
       "      <td>1314.0</td>\n",
       "      <td>NaN</td>\n",
       "      <td>13.5</td>\n",
       "      <td>1101.0</td>\n",
       "      <td>472.0</td>\n",
       "      <td>539.0</td>\n",
       "      <td>190.0</td>\n",
       "      <td>1374.0</td>\n",
       "      <td>1729.0</td>\n",
       "      <td>21.9</td>\n",
       "      <td>29.3</td>\n",
       "      <td>0.7568</td>\n",
       "      <td>4</td>\n",
       "      <td>1</td>\n",
       "    </tr>\n",
       "    <tr>\n",
       "      <th>9353</th>\n",
       "      <td>2.4</td>\n",
       "      <td>1163.0</td>\n",
       "      <td>NaN</td>\n",
       "      <td>11.4</td>\n",
       "      <td>1027.0</td>\n",
       "      <td>353.0</td>\n",
       "      <td>604.0</td>\n",
       "      <td>179.0</td>\n",
       "      <td>1264.0</td>\n",
       "      <td>1269.0</td>\n",
       "      <td>24.3</td>\n",
       "      <td>23.7</td>\n",
       "      <td>0.7119</td>\n",
       "      <td>4</td>\n",
       "      <td>11</td>\n",
       "    </tr>\n",
       "    <tr>\n",
       "      <th>9354</th>\n",
       "      <td>2.4</td>\n",
       "      <td>1142.0</td>\n",
       "      <td>NaN</td>\n",
       "      <td>12.4</td>\n",
       "      <td>1063.0</td>\n",
       "      <td>293.0</td>\n",
       "      <td>603.0</td>\n",
       "      <td>175.0</td>\n",
       "      <td>1241.0</td>\n",
       "      <td>1092.0</td>\n",
       "      <td>26.9</td>\n",
       "      <td>18.3</td>\n",
       "      <td>0.6406</td>\n",
       "      <td>4</td>\n",
       "      <td>12</td>\n",
       "    </tr>\n",
       "    <tr>\n",
       "      <th>9355</th>\n",
       "      <td>2.1</td>\n",
       "      <td>1003.0</td>\n",
       "      <td>NaN</td>\n",
       "      <td>9.5</td>\n",
       "      <td>961.0</td>\n",
       "      <td>235.0</td>\n",
       "      <td>702.0</td>\n",
       "      <td>156.0</td>\n",
       "      <td>1041.0</td>\n",
       "      <td>770.0</td>\n",
       "      <td>28.3</td>\n",
       "      <td>13.5</td>\n",
       "      <td>0.5139</td>\n",
       "      <td>4</td>\n",
       "      <td>13</td>\n",
       "    </tr>\n",
       "    <tr>\n",
       "      <th>9356</th>\n",
       "      <td>2.2</td>\n",
       "      <td>1071.0</td>\n",
       "      <td>NaN</td>\n",
       "      <td>11.9</td>\n",
       "      <td>1047.0</td>\n",
       "      <td>265.0</td>\n",
       "      <td>654.0</td>\n",
       "      <td>168.0</td>\n",
       "      <td>1129.0</td>\n",
       "      <td>816.0</td>\n",
       "      <td>28.5</td>\n",
       "      <td>13.1</td>\n",
       "      <td>0.5028</td>\n",
       "      <td>4</td>\n",
       "      <td>14</td>\n",
       "    </tr>\n",
       "  </tbody>\n",
       "</table>\n",
       "<p>9357 rows × 15 columns</p>\n",
       "</div>"
      ],
      "text/plain": [
       "      CO(GT)  PT08.S1(CO)  NMHC(GT)  C6H6(GT)  ...    RH      AH  Month  Hour\n",
       "0        2.6       1360.0     150.0      11.9  ...  48.9  0.7578      3    18\n",
       "1        2.0       1292.0     112.0       9.4  ...  47.7  0.7255      3    19\n",
       "2        2.2       1402.0      88.0       9.0  ...  54.0  0.7502      3     2\n",
       "3        2.2       1376.0      80.0       9.2  ...  60.0  0.7867      3    21\n",
       "4        1.6       1272.0      51.0       6.5  ...  59.6  0.7888      3    22\n",
       "...      ...          ...       ...       ...  ...   ...     ...    ...   ...\n",
       "9352     3.1       1314.0       NaN      13.5  ...  29.3  0.7568      4     1\n",
       "9353     2.4       1163.0       NaN      11.4  ...  23.7  0.7119      4    11\n",
       "9354     2.4       1142.0       NaN      12.4  ...  18.3  0.6406      4    12\n",
       "9355     2.1       1003.0       NaN       9.5  ...  13.5  0.5139      4    13\n",
       "9356     2.2       1071.0       NaN      11.9  ...  13.1  0.5028      4    14\n",
       "\n",
       "[9357 rows x 15 columns]"
      ]
     },
     "execution_count": 244,
     "metadata": {},
     "output_type": "execute_result"
    }
   ],
   "source": [
    "# Dropping the column Date and Time\n",
    "try: # try-except block in order to catch the thrown exception in case of re-execution \n",
    "    df.drop(['Date', 'Time'], axis=1, inplace=True)\n",
    "    df.shape\n",
    "except KeyError:\n",
    "    print(\"Columns already removed.\")\n",
    "df"
   ]
  },
  {
   "cell_type": "markdown",
   "id": "78eb2434",
   "metadata": {},
   "source": [
    "### Thresholding the values ($-200 = \\text{NaN}$)"
   ]
  },
  {
   "cell_type": "markdown",
   "id": "d36823d1",
   "metadata": {
    "ExecuteTime": {
     "end_time": "2022-09-29T19:28:09.712215Z",
     "start_time": "2022-09-29T19:28:09.705363Z"
    }
   },
   "source": [
    "We have remarked the following highlight from the dataset webpage:\n",
    "> Missing values are tagged with -200 value. \n",
    "\n",
    "We have to replace all values under $-200$ by a NaN item; we will then deal with them in the next section:"
   ]
  },
  {
   "cell_type": "code",
   "execution_count": 254,
   "id": "e63d9444",
   "metadata": {
    "ExecuteTime": {
     "end_time": "2022-09-29T19:46:38.350723Z",
     "start_time": "2022-09-29T19:46:38.333356Z"
    }
   },
   "outputs": [],
   "source": [
    "columns_float = ['CO(GT)', 'PT08.S1(CO)', 'NMHC(GT)', 'C6H6(GT)', 'PT08.S2(NMHC)',\n",
    "       'NOx(GT)', 'PT08.S3(NOx)', 'NO2(GT)', 'PT08.S4(NO2)', 'PT08.S5(O3)',\n",
    "       'T', 'RH', 'AH']\n",
    "df[df[columns_float] <= -200] = np.nan"
   ]
  },
  {
   "cell_type": "markdown",
   "id": "f747464a",
   "metadata": {},
   "source": [
    "### Handling missing values (NaN)"
   ]
  },
  {
   "cell_type": "markdown",
   "id": "1287652a",
   "metadata": {},
   "source": [
    "In order to train and validate our model, we cannot tolerate the presence of NaN values within the input dataset; we have to remove all of them."
   ]
  },
  {
   "cell_type": "markdown",
   "id": "f576dd00",
   "metadata": {},
   "source": [
    "To have a graphical confirmation, we can produce the two bar plots below showing the \"distribution\" of the missing values among our dataset."
   ]
  },
  {
   "cell_type": "code",
   "execution_count": 255,
   "id": "fcdbec16",
   "metadata": {
    "ExecuteTime": {
     "end_time": "2022-09-29T19:47:00.848706Z",
     "start_time": "2022-09-29T19:47:00.391810Z"
    }
   },
   "outputs": [
    {
     "data": {
      "image/png": "[encoded data removed]",
      "text/plain": [
       "<Figure size 2500x1000 with 2 Axes>"
      ]
     },
     "metadata": {},
     "output_type": "display_data"
    }
   ],
   "source": [
    "_ = msno.matrix(df)"
   ]
  },
  {
   "cell_type": "code",
   "execution_count": 260,
   "id": "d14c7a3e",
   "metadata": {
    "ExecuteTime": {
     "end_time": "2022-09-29T19:52:41.752936Z",
     "start_time": "2022-09-29T19:52:41.195436Z"
    }
   },
   "outputs": [
    {
     "data": {
      "image/png": "[encoded data removed]",
      "text/plain": [
       "<Figure size 2500x1000 with 3 Axes>"
      ]
     },
     "metadata": {},
     "output_type": "display_data"
    }
   ],
   "source": [
    "_ = msno.bar(df, color=\"red\")"
   ]
  },
  {
   "cell_type": "markdown",
   "id": "9b622d52",
   "metadata": {},
   "source": [
    "The feature : **`NMHC(GT)`** has a high proportion of NaN elements \n",
    "\n",
    "$\\Longrightarrow$ This column cannot provide meaningful conclusion on the selected target.\n",
    "\n",
    "$\\Longrightarrow$ We decide to remove the column **`NMHC(GT)`**."
   ]
  },
  {
   "cell_type": "code",
   "execution_count": 261,
   "id": "dd983adc",
   "metadata": {
    "ExecuteTime": {
     "end_time": "2022-09-29T19:54:27.108787Z",
     "start_time": "2022-09-29T19:54:27.073917Z"
    }
   },
   "outputs": [
    {
     "name": "stdout",
     "output_type": "stream",
     "text": [
      "Column already removed.\n"
     ]
    },
    {
     "data": {
      "text/html": [
       "<div>\n",
       "<style scoped>\n",
       "    .dataframe tbody tr th:only-of-type {\n",
       "        vertical-align: middle;\n",
       "    }\n",
       "\n",
       "    .dataframe tbody tr th {\n",
       "        vertical-align: top;\n",
       "    }\n",
       "\n",
       "    .dataframe thead th {\n",
       "        text-align: right;\n",
       "    }\n",
       "</style>\n",
       "<table border=\"1\" class=\"dataframe\">\n",
       "  <thead>\n",
       "    <tr style=\"text-align: right;\">\n",
       "      <th></th>\n",
       "      <th>CO(GT)</th>\n",
       "      <th>PT08.S1(CO)</th>\n",
       "      <th>C6H6(GT)</th>\n",
       "      <th>PT08.S2(NMHC)</th>\n",
       "      <th>NOx(GT)</th>\n",
       "      <th>PT08.S3(NOx)</th>\n",
       "      <th>NO2(GT)</th>\n",
       "      <th>PT08.S4(NO2)</th>\n",
       "      <th>PT08.S5(O3)</th>\n",
       "      <th>T</th>\n",
       "      <th>RH</th>\n",
       "      <th>AH</th>\n",
       "      <th>Month</th>\n",
       "      <th>Hour</th>\n",
       "    </tr>\n",
       "  </thead>\n",
       "  <tbody>\n",
       "    <tr>\n",
       "      <th>0</th>\n",
       "      <td>2.6</td>\n",
       "      <td>1360.0</td>\n",
       "      <td>11.9</td>\n",
       "      <td>1046.0</td>\n",
       "      <td>166.0</td>\n",
       "      <td>1056.0</td>\n",
       "      <td>113.0</td>\n",
       "      <td>1692.0</td>\n",
       "      <td>1268.0</td>\n",
       "      <td>13.6</td>\n",
       "      <td>48.9</td>\n",
       "      <td>0.7578</td>\n",
       "      <td>3</td>\n",
       "      <td>18</td>\n",
       "    </tr>\n",
       "    <tr>\n",
       "      <th>1</th>\n",
       "      <td>2.0</td>\n",
       "      <td>1292.0</td>\n",
       "      <td>9.4</td>\n",
       "      <td>955.0</td>\n",
       "      <td>103.0</td>\n",
       "      <td>1174.0</td>\n",
       "      <td>92.0</td>\n",
       "      <td>1559.0</td>\n",
       "      <td>972.0</td>\n",
       "      <td>13.3</td>\n",
       "      <td>47.7</td>\n",
       "      <td>0.7255</td>\n",
       "      <td>3</td>\n",
       "      <td>19</td>\n",
       "    </tr>\n",
       "    <tr>\n",
       "      <th>2</th>\n",
       "      <td>2.2</td>\n",
       "      <td>1402.0</td>\n",
       "      <td>9.0</td>\n",
       "      <td>939.0</td>\n",
       "      <td>131.0</td>\n",
       "      <td>1140.0</td>\n",
       "      <td>114.0</td>\n",
       "      <td>1555.0</td>\n",
       "      <td>1074.0</td>\n",
       "      <td>11.9</td>\n",
       "      <td>54.0</td>\n",
       "      <td>0.7502</td>\n",
       "      <td>3</td>\n",
       "      <td>2</td>\n",
       "    </tr>\n",
       "    <tr>\n",
       "      <th>3</th>\n",
       "      <td>2.2</td>\n",
       "      <td>1376.0</td>\n",
       "      <td>9.2</td>\n",
       "      <td>948.0</td>\n",
       "      <td>172.0</td>\n",
       "      <td>1092.0</td>\n",
       "      <td>122.0</td>\n",
       "      <td>1584.0</td>\n",
       "      <td>1203.0</td>\n",
       "      <td>11.0</td>\n",
       "      <td>60.0</td>\n",
       "      <td>0.7867</td>\n",
       "      <td>3</td>\n",
       "      <td>21</td>\n",
       "    </tr>\n",
       "    <tr>\n",
       "      <th>4</th>\n",
       "      <td>1.6</td>\n",
       "      <td>1272.0</td>\n",
       "      <td>6.5</td>\n",
       "      <td>836.0</td>\n",
       "      <td>131.0</td>\n",
       "      <td>1205.0</td>\n",
       "      <td>116.0</td>\n",
       "      <td>1490.0</td>\n",
       "      <td>1110.0</td>\n",
       "      <td>11.2</td>\n",
       "      <td>59.6</td>\n",
       "      <td>0.7888</td>\n",
       "      <td>3</td>\n",
       "      <td>22</td>\n",
       "    </tr>\n",
       "    <tr>\n",
       "      <th>...</th>\n",
       "      <td>...</td>\n",
       "      <td>...</td>\n",
       "      <td>...</td>\n",
       "      <td>...</td>\n",
       "      <td>...</td>\n",
       "      <td>...</td>\n",
       "      <td>...</td>\n",
       "      <td>...</td>\n",
       "      <td>...</td>\n",
       "      <td>...</td>\n",
       "      <td>...</td>\n",
       "      <td>...</td>\n",
       "      <td>...</td>\n",
       "      <td>...</td>\n",
       "    </tr>\n",
       "    <tr>\n",
       "      <th>9352</th>\n",
       "      <td>3.1</td>\n",
       "      <td>1314.0</td>\n",
       "      <td>13.5</td>\n",
       "      <td>1101.0</td>\n",
       "      <td>472.0</td>\n",
       "      <td>539.0</td>\n",
       "      <td>190.0</td>\n",
       "      <td>1374.0</td>\n",
       "      <td>1729.0</td>\n",
       "      <td>21.9</td>\n",
       "      <td>29.3</td>\n",
       "      <td>0.7568</td>\n",
       "      <td>4</td>\n",
       "      <td>1</td>\n",
       "    </tr>\n",
       "    <tr>\n",
       "      <th>9353</th>\n",
       "      <td>2.4</td>\n",
       "      <td>1163.0</td>\n",
       "      <td>11.4</td>\n",
       "      <td>1027.0</td>\n",
       "      <td>353.0</td>\n",
       "      <td>604.0</td>\n",
       "      <td>179.0</td>\n",
       "      <td>1264.0</td>\n",
       "      <td>1269.0</td>\n",
       "      <td>24.3</td>\n",
       "      <td>23.7</td>\n",
       "      <td>0.7119</td>\n",
       "      <td>4</td>\n",
       "      <td>11</td>\n",
       "    </tr>\n",
       "    <tr>\n",
       "      <th>9354</th>\n",
       "      <td>2.4</td>\n",
       "      <td>1142.0</td>\n",
       "      <td>12.4</td>\n",
       "      <td>1063.0</td>\n",
       "      <td>293.0</td>\n",
       "      <td>603.0</td>\n",
       "      <td>175.0</td>\n",
       "      <td>1241.0</td>\n",
       "      <td>1092.0</td>\n",
       "      <td>26.9</td>\n",
       "      <td>18.3</td>\n",
       "      <td>0.6406</td>\n",
       "      <td>4</td>\n",
       "      <td>12</td>\n",
       "    </tr>\n",
       "    <tr>\n",
       "      <th>9355</th>\n",
       "      <td>2.1</td>\n",
       "      <td>1003.0</td>\n",
       "      <td>9.5</td>\n",
       "      <td>961.0</td>\n",
       "      <td>235.0</td>\n",
       "      <td>702.0</td>\n",
       "      <td>156.0</td>\n",
       "      <td>1041.0</td>\n",
       "      <td>770.0</td>\n",
       "      <td>28.3</td>\n",
       "      <td>13.5</td>\n",
       "      <td>0.5139</td>\n",
       "      <td>4</td>\n",
       "      <td>13</td>\n",
       "    </tr>\n",
       "    <tr>\n",
       "      <th>9356</th>\n",
       "      <td>2.2</td>\n",
       "      <td>1071.0</td>\n",
       "      <td>11.9</td>\n",
       "      <td>1047.0</td>\n",
       "      <td>265.0</td>\n",
       "      <td>654.0</td>\n",
       "      <td>168.0</td>\n",
       "      <td>1129.0</td>\n",
       "      <td>816.0</td>\n",
       "      <td>28.5</td>\n",
       "      <td>13.1</td>\n",
       "      <td>0.5028</td>\n",
       "      <td>4</td>\n",
       "      <td>14</td>\n",
       "    </tr>\n",
       "  </tbody>\n",
       "</table>\n",
       "<p>9357 rows × 14 columns</p>\n",
       "</div>"
      ],
      "text/plain": [
       "      CO(GT)  PT08.S1(CO)  C6H6(GT)  PT08.S2(NMHC)  ...    RH      AH  Month  Hour\n",
       "0        2.6       1360.0      11.9         1046.0  ...  48.9  0.7578      3    18\n",
       "1        2.0       1292.0       9.4          955.0  ...  47.7  0.7255      3    19\n",
       "2        2.2       1402.0       9.0          939.0  ...  54.0  0.7502      3     2\n",
       "3        2.2       1376.0       9.2          948.0  ...  60.0  0.7867      3    21\n",
       "4        1.6       1272.0       6.5          836.0  ...  59.6  0.7888      3    22\n",
       "...      ...          ...       ...            ...  ...   ...     ...    ...   ...\n",
       "9352     3.1       1314.0      13.5         1101.0  ...  29.3  0.7568      4     1\n",
       "9353     2.4       1163.0      11.4         1027.0  ...  23.7  0.7119      4    11\n",
       "9354     2.4       1142.0      12.4         1063.0  ...  18.3  0.6406      4    12\n",
       "9355     2.1       1003.0       9.5          961.0  ...  13.5  0.5139      4    13\n",
       "9356     2.2       1071.0      11.9         1047.0  ...  13.1  0.5028      4    14\n",
       "\n",
       "[9357 rows x 14 columns]"
      ]
     },
     "execution_count": 261,
     "metadata": {},
     "output_type": "execute_result"
    }
   ],
   "source": [
    "# Dropping the column NMHC(GT)\n",
    "try: # try-except block in order to catch the thrown exception in case of re-execution \n",
    "    df.drop(['NMHC(GT)'], axis=1, inplace=True)\n",
    "    df.shape\n",
    "except KeyError:\n",
    "    print(\"Column already removed.\")\n",
    "df"
   ]
  },
  {
   "cell_type": "markdown",
   "id": "ca6164ba",
   "metadata": {},
   "source": [
    "The other columns have a proportion of non-NaN greater than $80 \\ \\%$, which contains most of the information of the corresponding feature; we can replace these NaN values by a significant statistical indicator such as : median or mean value."
   ]
  },
  {
   "cell_type": "code",
   "execution_count": 283,
   "id": "77d85c02",
   "metadata": {
    "ExecuteTime": {
     "end_time": "2022-09-29T20:12:33.264605Z",
     "start_time": "2022-09-29T20:12:33.252983Z"
    }
   },
   "outputs": [],
   "source": [
    "# Removing the NMHC(GT) column\n",
    "try:\n",
    "    columns_float.remove('NMHC(GT)')\n",
    "except ValueError:\n",
    "    pass\n",
    "columns_float\n",
    "for c in columns_float:\n",
    "    df[c].fillna(df[c].mean(), inplace=True) # or .median()"
   ]
  },
  {
   "cell_type": "code",
   "execution_count": 279,
   "id": "3fff68d5",
   "metadata": {
    "ExecuteTime": {
     "end_time": "2022-09-29T20:01:58.519026Z",
     "start_time": "2022-09-29T20:01:58.509492Z"
    }
   },
   "outputs": [
    {
     "data": {
      "text/plain": [
       "CO(GT)           0.0\n",
       "PT08.S1(CO)      0.0\n",
       "C6H6(GT)         0.0\n",
       "PT08.S2(NMHC)    0.0\n",
       "NOx(GT)          0.0\n",
       "PT08.S3(NOx)     0.0\n",
       "NO2(GT)          0.0\n",
       "PT08.S4(NO2)     0.0\n",
       "PT08.S5(O3)      0.0\n",
       "T                0.0\n",
       "RH               0.0\n",
       "AH               0.0\n",
       "Month            0.0\n",
       "Hour             0.0\n",
       "dtype: float64"
      ]
     },
     "execution_count": 279,
     "metadata": {},
     "output_type": "execute_result"
    }
   ],
   "source": [
    "# Computing the percentage of remaining missing values\n",
    "percent_missing = df.isnull().sum() * 100 / len(df)\n",
    "percent_missing"
   ]
  },
  {
   "cell_type": "markdown",
   "id": "2bb0d88a",
   "metadata": {},
   "source": [
    "We're good to go !"
   ]
  },
  {
   "cell_type": "markdown",
   "id": "7f22e537",
   "metadata": {},
   "source": [
    "### Final steps"
   ]
  },
  {
   "cell_type": "code",
   "execution_count": 370,
   "id": "40e4fce0",
   "metadata": {
    "ExecuteTime": {
     "end_time": "2022-10-01T10:26:32.560911Z",
     "start_time": "2022-10-01T10:26:32.231367Z"
    }
   },
   "outputs": [],
   "source": [
    "# Saving the pre-processed output DataFrame within an intermediary file\n",
    "df.to_csv(path_or_buf=\"data/clean_data.csv\",\n",
    "         sep=\";\",\n",
    "         header=True)"
   ]
  },
  {
   "cell_type": "code",
   "execution_count": 371,
   "id": "a28e49b8",
   "metadata": {
    "ExecuteTime": {
     "end_time": "2022-10-01T10:26:33.992241Z",
     "start_time": "2022-10-01T10:26:33.740351Z"
    }
   },
   "outputs": [
    {
     "data": {
      "text/html": [
       "<div>\n",
       "<style scoped>\n",
       "    .dataframe tbody tr th:only-of-type {\n",
       "        vertical-align: middle;\n",
       "    }\n",
       "\n",
       "    .dataframe tbody tr th {\n",
       "        vertical-align: top;\n",
       "    }\n",
       "\n",
       "    .dataframe thead th {\n",
       "        text-align: right;\n",
       "    }\n",
       "</style>\n",
       "<table border=\"1\" class=\"dataframe\">\n",
       "  <thead>\n",
       "    <tr style=\"text-align: right;\">\n",
       "      <th></th>\n",
       "      <th>count</th>\n",
       "      <th>mean</th>\n",
       "      <th>std</th>\n",
       "      <th>min</th>\n",
       "      <th>25%</th>\n",
       "      <th>50%</th>\n",
       "      <th>75%</th>\n",
       "      <th>max</th>\n",
       "    </tr>\n",
       "  </thead>\n",
       "  <tbody>\n",
       "    <tr>\n",
       "      <th>CO(GT)</th>\n",
       "      <td>9357.0</td>\n",
       "      <td>2.153</td>\n",
       "      <td>1.316</td>\n",
       "      <td>0.100</td>\n",
       "      <td>1.200</td>\n",
       "      <td>2.153</td>\n",
       "      <td>2.600</td>\n",
       "      <td>11.900</td>\n",
       "    </tr>\n",
       "    <tr>\n",
       "      <th>PT08.S1(CO)</th>\n",
       "      <td>9357.0</td>\n",
       "      <td>1099.833</td>\n",
       "      <td>212.792</td>\n",
       "      <td>647.000</td>\n",
       "      <td>941.000</td>\n",
       "      <td>1075.000</td>\n",
       "      <td>1221.000</td>\n",
       "      <td>2040.000</td>\n",
       "    </tr>\n",
       "    <tr>\n",
       "      <th>NOx(GT)</th>\n",
       "      <td>9357.0</td>\n",
       "      <td>246.897</td>\n",
       "      <td>193.427</td>\n",
       "      <td>2.000</td>\n",
       "      <td>112.000</td>\n",
       "      <td>229.000</td>\n",
       "      <td>284.000</td>\n",
       "      <td>1479.000</td>\n",
       "    </tr>\n",
       "    <tr>\n",
       "      <th>PT08.S3(NOx)</th>\n",
       "      <td>9357.0</td>\n",
       "      <td>835.494</td>\n",
       "      <td>251.744</td>\n",
       "      <td>322.000</td>\n",
       "      <td>666.000</td>\n",
       "      <td>818.000</td>\n",
       "      <td>960.000</td>\n",
       "      <td>2683.000</td>\n",
       "    </tr>\n",
       "    <tr>\n",
       "      <th>NO2(GT)</th>\n",
       "      <td>9357.0</td>\n",
       "      <td>113.091</td>\n",
       "      <td>43.921</td>\n",
       "      <td>2.000</td>\n",
       "      <td>86.000</td>\n",
       "      <td>113.091</td>\n",
       "      <td>133.000</td>\n",
       "      <td>340.000</td>\n",
       "    </tr>\n",
       "    <tr>\n",
       "      <th>PT08.S4(NO2)</th>\n",
       "      <td>9357.0</td>\n",
       "      <td>1456.265</td>\n",
       "      <td>339.368</td>\n",
       "      <td>551.000</td>\n",
       "      <td>1242.000</td>\n",
       "      <td>1456.265</td>\n",
       "      <td>1662.000</td>\n",
       "      <td>2775.000</td>\n",
       "    </tr>\n",
       "    <tr>\n",
       "      <th>T</th>\n",
       "      <td>9357.0</td>\n",
       "      <td>18.318</td>\n",
       "      <td>8.658</td>\n",
       "      <td>-1.900</td>\n",
       "      <td>12.000</td>\n",
       "      <td>18.300</td>\n",
       "      <td>24.100</td>\n",
       "      <td>44.600</td>\n",
       "    </tr>\n",
       "    <tr>\n",
       "      <th>RH</th>\n",
       "      <td>9357.0</td>\n",
       "      <td>49.234</td>\n",
       "      <td>16.975</td>\n",
       "      <td>9.200</td>\n",
       "      <td>36.600</td>\n",
       "      <td>49.234</td>\n",
       "      <td>61.900</td>\n",
       "      <td>88.700</td>\n",
       "    </tr>\n",
       "    <tr>\n",
       "      <th>AH</th>\n",
       "      <td>9357.0</td>\n",
       "      <td>1.026</td>\n",
       "      <td>0.396</td>\n",
       "      <td>0.185</td>\n",
       "      <td>0.746</td>\n",
       "      <td>1.015</td>\n",
       "      <td>1.296</td>\n",
       "      <td>2.231</td>\n",
       "    </tr>\n",
       "    <tr>\n",
       "      <th>Month</th>\n",
       "      <td>9357.0</td>\n",
       "      <td>6.310</td>\n",
       "      <td>3.438</td>\n",
       "      <td>1.000</td>\n",
       "      <td>3.000</td>\n",
       "      <td>6.000</td>\n",
       "      <td>9.000</td>\n",
       "      <td>12.000</td>\n",
       "    </tr>\n",
       "    <tr>\n",
       "      <th>Hour</th>\n",
       "      <td>9357.0</td>\n",
       "      <td>10.373</td>\n",
       "      <td>7.205</td>\n",
       "      <td>0.000</td>\n",
       "      <td>3.000</td>\n",
       "      <td>9.000</td>\n",
       "      <td>16.000</td>\n",
       "      <td>23.000</td>\n",
       "    </tr>\n",
       "  </tbody>\n",
       "</table>\n",
       "</div>"
      ],
      "text/plain": [
       "               count      mean      std  ...       50%       75%       max\n",
       "CO(GT)        9357.0     2.153    1.316  ...     2.153     2.600    11.900\n",
       "PT08.S1(CO)   9357.0  1099.833  212.792  ...  1075.000  1221.000  2040.000\n",
       "NOx(GT)       9357.0   246.897  193.427  ...   229.000   284.000  1479.000\n",
       "PT08.S3(NOx)  9357.0   835.494  251.744  ...   818.000   960.000  2683.000\n",
       "NO2(GT)       9357.0   113.091   43.921  ...   113.091   133.000   340.000\n",
       "PT08.S4(NO2)  9357.0  1456.265  339.368  ...  1456.265  1662.000  2775.000\n",
       "T             9357.0    18.318    8.658  ...    18.300    24.100    44.600\n",
       "RH            9357.0    49.234   16.975  ...    49.234    61.900    88.700\n",
       "AH            9357.0     1.026    0.396  ...     1.015     1.296     2.231\n",
       "Month         9357.0     6.310    3.438  ...     6.000     9.000    12.000\n",
       "Hour          9357.0    10.373    7.205  ...     9.000    16.000    23.000\n",
       "\n",
       "[11 rows x 8 columns]"
      ]
     },
     "execution_count": 371,
     "metadata": {},
     "output_type": "execute_result"
    }
   ],
   "source": [
    "# Statistical description of the final dataset\n",
    "df.describe().transpose().round(3)"
   ]
  },
  {
   "cell_type": "markdown",
   "id": "d33b2678",
   "metadata": {},
   "source": [
    "### Handling high-correlated data"
   ]
  },
  {
   "cell_type": "markdown",
   "id": "3460fea7",
   "metadata": {},
   "source": [
    "Linear regression cannot perform a good fitting process with highly-correlated features.\n",
    "Given a specific threshold, we will remove the most correlated variables in order to obtain consistent results."
   ]
  },
  {
   "cell_type": "code",
   "execution_count": 373,
   "id": "1e27bc94",
   "metadata": {
    "ExecuteTime": {
     "end_time": "2022-10-01T10:28:26.452455Z",
     "start_time": "2022-10-01T10:28:25.966204Z"
    }
   },
   "outputs": [
    {
     "data": {
      "image/png": "[encoded data removed]",
      "text/plain": [
       "<Figure size 1500x1000 with 2 Axes>"
      ]
     },
     "metadata": {},
     "output_type": "display_data"
    }
   ],
   "source": [
    "# Computing and plotting the correlation matrix of the final dataset\n",
    "plt.figure(figsize=(15, 10))\n",
    "correlation_matrix = df.corr().abs()\n",
    "sns.heatmap(correlation_matrix, annot=True, cmap=\"autumn\")\n",
    "plt.title(\"Correlation matrix\")\n",
    "plt.show()"
   ]
  },
  {
   "cell_type": "code",
   "execution_count": 379,
   "id": "520c86b4",
   "metadata": {
    "ExecuteTime": {
     "end_time": "2022-10-01T10:29:14.788526Z",
     "start_time": "2022-10-01T10:29:14.778068Z"
    }
   },
   "outputs": [
    {
     "name": "stdout",
     "output_type": "stream",
     "text": [
      "High-correlated features have already been removed by the user.\n"
     ]
    }
   ],
   "source": [
    "# Select upper triangle of correlation matrix (because it's a symmetric matrix)\n",
    "upper = correlation_matrix.where(np.triu(np.ones(correlation_matrix.shape), k=1).astype(bool))\n",
    "#print(upper)\n",
    "\n",
    "# Find features with correlation greater than a fixed threshold\n",
    "HIGH_CORRELATION_THRESHOLD = 0.88\n",
    "to_drop = [column for column in upper.columns if any(upper[column] > HIGH_CORRELATION_THRESHOLD)]\n",
    "\n",
    "# Drop selected features\n",
    "try:\n",
    "    if len(to_drop) != 0:\n",
    "        print(f\"We drop the following variables: {to_drop}\")\n",
    "        df.drop(to_drop, axis=1, inplace=True)\n",
    "        print(\"Removing high-correlated columns\")\n",
    "    else:\n",
    "        print(\"High-correlated features have already been removed by the user.\")\n",
    "except:\n",
    "    print(\"High-correlated features have already been removed by the user.\")"
   ]
  },
  {
   "cell_type": "code",
   "execution_count": 380,
   "id": "4c49c5d2",
   "metadata": {
    "ExecuteTime": {
     "end_time": "2022-10-01T10:29:26.435374Z",
     "start_time": "2022-10-01T10:29:26.430136Z"
    }
   },
   "outputs": [],
   "source": [
    "# (Obsolete) Alternative method to find pairs of heavy-correlated variables\n",
    "#c = df.corr().abs()\n",
    "#s = c.unstack()\n",
    "#so = s.sort_values(kind=\"quicksort\")\n",
    "#so.drop(so)\n",
    "#HIGH_CORRELATION_THRESHOLD = 0.85\n",
    "#so[(so != 1.0) & (so > HIGH_CORRELATION_THRESHOLD)].drop_duplicates().keys()"
   ]
  },
  {
   "cell_type": "markdown",
   "id": "952ceade",
   "metadata": {},
   "source": [
    "We remark the upper left-hand corner contains highly-correlated variables."
   ]
  },
  {
   "cell_type": "markdown",
   "id": "572ad277",
   "metadata": {},
   "source": [
    "### Handling outliers\n",
    "\n",
    "<p style=\"color:red\"> \n",
    "    <b>WARNING</b>: This step has to be performed <b>RIGHT AFTER</b> the train/test/validation split <b>AND ONLY</b> on the train set.\n",
    "</p>\n",
    "\n",
    "In order to check the presence of outliers within our dataset, we analyze the box-plot of each column."
   ]
  },
  {
   "cell_type": "code",
   "execution_count": 389,
   "id": "988ae8b1",
   "metadata": {
    "ExecuteTime": {
     "end_time": "2022-10-01T10:39:59.371333Z",
     "start_time": "2022-10-01T10:39:59.186285Z"
    }
   },
   "outputs": [
    {
     "data": {
      "image/png": "[encoded data removed]",
      "text/plain": [
       "<Figure size 640x480 with 1 Axes>"
      ]
     },
     "metadata": {},
     "output_type": "display_data"
    }
   ],
   "source": [
    "df.plot(kind=\"box\",\n",
    "       title=\"Box-plots of each variables within the dataset\",\n",
    "       color=\"green\", xlabel=None)\n",
    "_ = plt.xticks(rotation=45)"
   ]
  },
  {
   "cell_type": "markdown",
   "id": "aca3e9e4",
   "metadata": {},
   "source": [
    "We can observe a lot of outliers, in particular for `PT08.S1(CO)`, `NOx(GT)`, and `PT08.S3(NOx)`and `PT08.S4(NO2)`.\n",
    "\n",
    "At first sight, we wanted to perform some data pre-processing on the outliers. Our first track was to implement the **Winsorize method** which rescales the observations and tries to replace the outliers by \"normal values\".\n",
    "\n",
    "However, since we don't want to facilitate **over-fitting** potential behaviors and as we also want to introduce noise in the coming steps within the feedforwarding step, we do not pursue on this track."
   ]
  },
  {
   "cell_type": "markdown",
   "id": "c2fa58bd",
   "metadata": {},
   "source": [
    "### Creation of train/test datasets\n",
    "\n",
    "<p style=\"text-align:center\">\n",
    "    <span style=\"border: 2px solid red; padding: 10px; color: red; font-size:20px; margin: 5px\"><b>! ! ! ! ! TO BE COMPLETED ! ! ! ! !</b></span>\n",
    "</p>\n",
    "\n",
    "---"
   ]
  },
  {
   "cell_type": "code",
   "execution_count": 356,
   "id": "ac936f8f",
   "metadata": {
    "ExecuteTime": {
     "end_time": "2022-09-29T21:29:19.996789Z",
     "start_time": "2022-09-29T21:29:19.992541Z"
    }
   },
   "outputs": [],
   "source": [
    "X = df.copy()\n",
    "Y = X.pop(\"CO(GT)\")\n",
    "#Y.astype(\"float\")"
   ]
  },
  {
   "cell_type": "code",
   "execution_count": 359,
   "id": "28e00566",
   "metadata": {
    "ExecuteTime": {
     "end_time": "2022-09-29T21:29:52.003256Z",
     "start_time": "2022-09-29T21:29:51.972258Z"
    }
   },
   "outputs": [
    {
     "data": {
      "text/html": [
       "<div>\n",
       "<style scoped>\n",
       "    .dataframe tbody tr th:only-of-type {\n",
       "        vertical-align: middle;\n",
       "    }\n",
       "\n",
       "    .dataframe tbody tr th {\n",
       "        vertical-align: top;\n",
       "    }\n",
       "\n",
       "    .dataframe thead th {\n",
       "        text-align: right;\n",
       "    }\n",
       "</style>\n",
       "<table border=\"1\" class=\"dataframe\">\n",
       "  <thead>\n",
       "    <tr style=\"text-align: right;\">\n",
       "      <th></th>\n",
       "      <th>PT08.S1(CO)</th>\n",
       "      <th>NOx(GT)</th>\n",
       "      <th>PT08.S3(NOx)</th>\n",
       "      <th>NO2(GT)</th>\n",
       "      <th>PT08.S4(NO2)</th>\n",
       "      <th>T</th>\n",
       "      <th>RH</th>\n",
       "      <th>AH</th>\n",
       "      <th>Month</th>\n",
       "      <th>Hour</th>\n",
       "    </tr>\n",
       "  </thead>\n",
       "  <tbody>\n",
       "    <tr>\n",
       "      <th>8426</th>\n",
       "      <td>1367.000000</td>\n",
       "      <td>551.000000</td>\n",
       "      <td>485.000000</td>\n",
       "      <td>265.000000</td>\n",
       "      <td>1492.000000</td>\n",
       "      <td>6.300000</td>\n",
       "      <td>74.900000</td>\n",
       "      <td>0.71870</td>\n",
       "      <td>2</td>\n",
       "      <td>2</td>\n",
       "    </tr>\n",
       "    <tr>\n",
       "      <th>6760</th>\n",
       "      <td>1099.833166</td>\n",
       "      <td>937.000000</td>\n",
       "      <td>835.493605</td>\n",
       "      <td>164.000000</td>\n",
       "      <td>1456.264598</td>\n",
       "      <td>18.317829</td>\n",
       "      <td>49.234201</td>\n",
       "      <td>1.02553</td>\n",
       "      <td>12</td>\n",
       "      <td>1</td>\n",
       "    </tr>\n",
       "    <tr>\n",
       "      <th>6514</th>\n",
       "      <td>828.000000</td>\n",
       "      <td>146.000000</td>\n",
       "      <td>1074.000000</td>\n",
       "      <td>64.000000</td>\n",
       "      <td>1103.000000</td>\n",
       "      <td>11.900000</td>\n",
       "      <td>71.400000</td>\n",
       "      <td>0.99210</td>\n",
       "      <td>12</td>\n",
       "      <td>4</td>\n",
       "    </tr>\n",
       "    <tr>\n",
       "      <th>4267</th>\n",
       "      <td>1062.000000</td>\n",
       "      <td>246.896735</td>\n",
       "      <td>729.000000</td>\n",
       "      <td>113.091251</td>\n",
       "      <td>1459.000000</td>\n",
       "      <td>37.100000</td>\n",
       "      <td>21.200000</td>\n",
       "      <td>1.31070</td>\n",
       "      <td>9</td>\n",
       "      <td>13</td>\n",
       "    </tr>\n",
       "    <tr>\n",
       "      <th>8509</th>\n",
       "      <td>817.000000</td>\n",
       "      <td>89.000000</td>\n",
       "      <td>1378.000000</td>\n",
       "      <td>66.000000</td>\n",
       "      <td>732.000000</td>\n",
       "      <td>2.500000</td>\n",
       "      <td>52.700000</td>\n",
       "      <td>0.39080</td>\n",
       "      <td>2</td>\n",
       "      <td>7</td>\n",
       "    </tr>\n",
       "    <tr>\n",
       "      <th>...</th>\n",
       "      <td>...</td>\n",
       "      <td>...</td>\n",
       "      <td>...</td>\n",
       "      <td>...</td>\n",
       "      <td>...</td>\n",
       "      <td>...</td>\n",
       "      <td>...</td>\n",
       "      <td>...</td>\n",
       "      <td>...</td>\n",
       "      <td>...</td>\n",
       "    </tr>\n",
       "    <tr>\n",
       "      <th>7356</th>\n",
       "      <td>1047.000000</td>\n",
       "      <td>115.000000</td>\n",
       "      <td>863.000000</td>\n",
       "      <td>75.000000</td>\n",
       "      <td>1147.000000</td>\n",
       "      <td>12.000000</td>\n",
       "      <td>69.200000</td>\n",
       "      <td>0.96970</td>\n",
       "      <td>1</td>\n",
       "      <td>6</td>\n",
       "    </tr>\n",
       "    <tr>\n",
       "      <th>3737</th>\n",
       "      <td>953.000000</td>\n",
       "      <td>83.000000</td>\n",
       "      <td>868.000000</td>\n",
       "      <td>109.000000</td>\n",
       "      <td>1573.000000</td>\n",
       "      <td>35.700000</td>\n",
       "      <td>29.000000</td>\n",
       "      <td>1.67160</td>\n",
       "      <td>8</td>\n",
       "      <td>11</td>\n",
       "    </tr>\n",
       "    <tr>\n",
       "      <th>8267</th>\n",
       "      <td>872.000000</td>\n",
       "      <td>36.000000</td>\n",
       "      <td>1249.000000</td>\n",
       "      <td>35.000000</td>\n",
       "      <td>794.000000</td>\n",
       "      <td>6.900000</td>\n",
       "      <td>48.100000</td>\n",
       "      <td>0.47960</td>\n",
       "      <td>2</td>\n",
       "      <td>5</td>\n",
       "    </tr>\n",
       "    <tr>\n",
       "      <th>4598</th>\n",
       "      <td>903.000000</td>\n",
       "      <td>176.000000</td>\n",
       "      <td>1035.000000</td>\n",
       "      <td>81.000000</td>\n",
       "      <td>1317.000000</td>\n",
       "      <td>20.700000</td>\n",
       "      <td>49.700000</td>\n",
       "      <td>1.19700</td>\n",
       "      <td>9</td>\n",
       "      <td>8</td>\n",
       "    </tr>\n",
       "    <tr>\n",
       "      <th>2326</th>\n",
       "      <td>1065.000000</td>\n",
       "      <td>169.000000</td>\n",
       "      <td>766.000000</td>\n",
       "      <td>137.000000</td>\n",
       "      <td>1852.000000</td>\n",
       "      <td>35.300000</td>\n",
       "      <td>18.800000</td>\n",
       "      <td>1.05720</td>\n",
       "      <td>6</td>\n",
       "      <td>16</td>\n",
       "    </tr>\n",
       "  </tbody>\n",
       "</table>\n",
       "<p>1872 rows × 10 columns</p>\n",
       "</div>"
      ],
      "text/plain": [
       "      PT08.S1(CO)     NOx(GT)  PT08.S3(NOx)  ...       AH  Month  Hour\n",
       "8426  1367.000000  551.000000    485.000000  ...  0.71870      2     2\n",
       "6760  1099.833166  937.000000    835.493605  ...  1.02553     12     1\n",
       "6514   828.000000  146.000000   1074.000000  ...  0.99210     12     4\n",
       "4267  1062.000000  246.896735    729.000000  ...  1.31070      9    13\n",
       "8509   817.000000   89.000000   1378.000000  ...  0.39080      2     7\n",
       "...           ...         ...           ...  ...      ...    ...   ...\n",
       "7356  1047.000000  115.000000    863.000000  ...  0.96970      1     6\n",
       "3737   953.000000   83.000000    868.000000  ...  1.67160      8    11\n",
       "8267   872.000000   36.000000   1249.000000  ...  0.47960      2     5\n",
       "4598   903.000000  176.000000   1035.000000  ...  1.19700      9     8\n",
       "2326  1065.000000  169.000000    766.000000  ...  1.05720      6    16\n",
       "\n",
       "[1872 rows x 10 columns]"
      ]
     },
     "execution_count": 359,
     "metadata": {},
     "output_type": "execute_result"
    }
   ],
   "source": [
    "# Size setting\n",
    "size_sample_test = 0.2\n",
    "\n",
    "# Creation of training and testing dataset + Shuffling\n",
    "X_train, X_test, Y_train, Y_test = train_test_split(X, Y, test_size = size_sample_test)\n",
    "X_train.sample(frac=1)\n",
    "X_test.sample(frac=1)"
   ]
  },
  {
   "cell_type": "markdown",
   "id": "7bffd64a",
   "metadata": {},
   "source": [
    "TODO : check the document"
   ]
  },
  {
   "cell_type": "markdown",
   "id": "935c038e",
   "metadata": {},
   "source": [
    "Hyperparameters whose effect I wan to know you tested include :\n",
    "- $\\#$ of layers\n",
    "- $\\#$ of neurons\n",
    "- learning rate\n",
    "- regularization\n",
    "- activation functions\n",
    "- impact of normalizing your dataset\n",
    "- impact of noising your dataset (after normalization)"
   ]
  },
  {
   "cell_type": "markdown",
   "id": "3158da78",
   "metadata": {},
   "source": [
    "$\\mu$, $\\sigma$ output predicting what Gaussian distribution the output belongs to if truly Gaussian\n",
    "\n",
    "99% of the outputs between "
   ]
  },
  {
   "cell_type": "markdown",
   "id": "54b73bdf",
   "metadata": {},
   "source": [
    "## NN model"
   ]
  }
 ],
 "metadata": {
  "kernelspec": {
   "display_name": "Python 3 (ipykernel)",
   "language": "python",
   "name": "python3"
  },
  "language_info": {
   "codemirror_mode": {
    "name": "ipython",
    "version": 3
   },
   "file_extension": ".py",
   "mimetype": "text/x-python",
   "name": "python",
   "nbconvert_exporter": "python",
   "pygments_lexer": "ipython3",
   "version": "3.10.6"
  },
  "toc": {
   "base_numbering": 1,
   "nav_menu": {},
   "number_sections": true,
   "sideBar": true,
   "skip_h1_title": false,
   "title_cell": "Table of Contents",
   "title_sidebar": "Contents",
   "toc_cell": false,
   "toc_position": {
    "height": "calc(100% - 180px)",
    "left": "10px",
    "top": "150px",
    "width": "369.817px"
   },
   "toc_section_display": true,
   "toc_window_display": true
  }
 },
 "nbformat": 4,
 "nbformat_minor": 5
}
